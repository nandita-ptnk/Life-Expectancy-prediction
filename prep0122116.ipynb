{
  "nbformat": 4,
  "nbformat_minor": 0,
  "metadata": {
    "colab": {
      "name": "prep0122116.ipynb",
      "provenance": []
    },
    "kernelspec": {
      "name": "python3",
      "display_name": "Python 3"
    },
    "language_info": {
      "name": "python"
    }
  },
  "cells": [
    {
      "cell_type": "code",
      "execution_count": null,
      "metadata": {
        "id": "WgxWpN0O0EA1"
      },
      "outputs": [],
      "source": [
        "import pandas as pd\n",
        "import seaborn as sns\n",
        "import matplotlib.pyplot as plt\n",
        "import numpy as np"
      ]
    },
    {
      "cell_type": "code",
      "source": [
        "from google.colab import drive\n",
        "drive.mount('/content/drive')"
      ],
      "metadata": {
        "colab": {
          "base_uri": "https://localhost:8080/"
        },
        "id": "R8vyqlVCnrSb",
        "outputId": "b702129b-cb3a-4be1-f3c8-4c8a76f3f5aa"
      },
      "execution_count": null,
      "outputs": [
        {
          "output_type": "stream",
          "name": "stdout",
          "text": [
            "Mounted at /content/drive\n"
          ]
        }
      ]
    },
    {
      "cell_type": "code",
      "source": [
        "train = pd.read_csv('/content/drive/MyDrive/Datasets/prep0122116_train.csv')"
      ],
      "metadata": {
        "id": "5SMjlEeioFKo"
      },
      "execution_count": null,
      "outputs": []
    },
    {
      "cell_type": "code",
      "source": [
        "test = pd.read_csv('/content/drive/MyDrive/Datasets/prep0122116_test.csv')"
      ],
      "metadata": {
        "id": "ejNIT42EoFOs"
      },
      "execution_count": null,
      "outputs": []
    },
    {
      "cell_type": "markdown",
      "source": [
        "# **EDA**"
      ],
      "metadata": {
        "id": "BLlHS8Q6pjr-"
      }
    },
    {
      "cell_type": "code",
      "source": [
        "train.head()"
      ],
      "metadata": {
        "colab": {
          "base_uri": "https://localhost:8080/",
          "height": 206
        },
        "id": "_59eC5Q4oFTS",
        "outputId": "d389fa66-83c4-475e-9a6e-2b58a5723062"
      },
      "execution_count": null,
      "outputs": [
        {
          "output_type": "execute_result",
          "data": {
            "text/plain": [
              "   Unnamed: 0      Status  Life expectancy  Adult Mortality   BMI  HIV/AIDS  \\\n",
              "0         854  Developing             62.9            286.0  16.5       0.7   \n",
              "1        1453   Developed             71.0             26.0  56.6       0.1   \n",
              "2        2921  Developing             43.8            614.0  16.8      18.7   \n",
              "3        2521   Developed             83.4             49.0  57.4       0.1   \n",
              "4        2931  Developing             45.4              7.0  27.9      26.8   \n",
              "\n",
              "   Diphtheria  Polio          GDP  Income composition of resources  Schooling  \n",
              "0        96.0   96.0   582.775532                            0.405        5.0  \n",
              "1        99.0   99.0  6351.812500                            0.776       15.5  \n",
              "2        85.0   85.0   341.955625                            0.418        9.6  \n",
              "3        97.0   97.0  8989.842400                            0.938       16.0  \n",
              "4         7.0   71.0   414.796232                            0.408        9.5  "
            ],
            "text/html": [
              "\n",
              "  <div id=\"df-440f8b21-06df-42f1-8b41-1d6a2d1fbba6\">\n",
              "    <div class=\"colab-df-container\">\n",
              "      <div>\n",
              "<style scoped>\n",
              "    .dataframe tbody tr th:only-of-type {\n",
              "        vertical-align: middle;\n",
              "    }\n",
              "\n",
              "    .dataframe tbody tr th {\n",
              "        vertical-align: top;\n",
              "    }\n",
              "\n",
              "    .dataframe thead th {\n",
              "        text-align: right;\n",
              "    }\n",
              "</style>\n",
              "<table border=\"1\" class=\"dataframe\">\n",
              "  <thead>\n",
              "    <tr style=\"text-align: right;\">\n",
              "      <th></th>\n",
              "      <th>Unnamed: 0</th>\n",
              "      <th>Status</th>\n",
              "      <th>Life expectancy</th>\n",
              "      <th>Adult Mortality</th>\n",
              "      <th>BMI</th>\n",
              "      <th>HIV/AIDS</th>\n",
              "      <th>Diphtheria</th>\n",
              "      <th>Polio</th>\n",
              "      <th>GDP</th>\n",
              "      <th>Income composition of resources</th>\n",
              "      <th>Schooling</th>\n",
              "    </tr>\n",
              "  </thead>\n",
              "  <tbody>\n",
              "    <tr>\n",
              "      <th>0</th>\n",
              "      <td>854</td>\n",
              "      <td>Developing</td>\n",
              "      <td>62.9</td>\n",
              "      <td>286.0</td>\n",
              "      <td>16.5</td>\n",
              "      <td>0.7</td>\n",
              "      <td>96.0</td>\n",
              "      <td>96.0</td>\n",
              "      <td>582.775532</td>\n",
              "      <td>0.405</td>\n",
              "      <td>5.0</td>\n",
              "    </tr>\n",
              "    <tr>\n",
              "      <th>1</th>\n",
              "      <td>1453</td>\n",
              "      <td>Developed</td>\n",
              "      <td>71.0</td>\n",
              "      <td>26.0</td>\n",
              "      <td>56.6</td>\n",
              "      <td>0.1</td>\n",
              "      <td>99.0</td>\n",
              "      <td>99.0</td>\n",
              "      <td>6351.812500</td>\n",
              "      <td>0.776</td>\n",
              "      <td>15.5</td>\n",
              "    </tr>\n",
              "    <tr>\n",
              "      <th>2</th>\n",
              "      <td>2921</td>\n",
              "      <td>Developing</td>\n",
              "      <td>43.8</td>\n",
              "      <td>614.0</td>\n",
              "      <td>16.8</td>\n",
              "      <td>18.7</td>\n",
              "      <td>85.0</td>\n",
              "      <td>85.0</td>\n",
              "      <td>341.955625</td>\n",
              "      <td>0.418</td>\n",
              "      <td>9.6</td>\n",
              "    </tr>\n",
              "    <tr>\n",
              "      <th>3</th>\n",
              "      <td>2521</td>\n",
              "      <td>Developed</td>\n",
              "      <td>83.4</td>\n",
              "      <td>49.0</td>\n",
              "      <td>57.4</td>\n",
              "      <td>0.1</td>\n",
              "      <td>97.0</td>\n",
              "      <td>97.0</td>\n",
              "      <td>8989.842400</td>\n",
              "      <td>0.938</td>\n",
              "      <td>16.0</td>\n",
              "    </tr>\n",
              "    <tr>\n",
              "      <th>4</th>\n",
              "      <td>2931</td>\n",
              "      <td>Developing</td>\n",
              "      <td>45.4</td>\n",
              "      <td>7.0</td>\n",
              "      <td>27.9</td>\n",
              "      <td>26.8</td>\n",
              "      <td>7.0</td>\n",
              "      <td>71.0</td>\n",
              "      <td>414.796232</td>\n",
              "      <td>0.408</td>\n",
              "      <td>9.5</td>\n",
              "    </tr>\n",
              "  </tbody>\n",
              "</table>\n",
              "</div>\n",
              "      <button class=\"colab-df-convert\" onclick=\"convertToInteractive('df-440f8b21-06df-42f1-8b41-1d6a2d1fbba6')\"\n",
              "              title=\"Convert this dataframe to an interactive table.\"\n",
              "              style=\"display:none;\">\n",
              "        \n",
              "  <svg xmlns=\"http://www.w3.org/2000/svg\" height=\"24px\"viewBox=\"0 0 24 24\"\n",
              "       width=\"24px\">\n",
              "    <path d=\"M0 0h24v24H0V0z\" fill=\"none\"/>\n",
              "    <path d=\"M18.56 5.44l.94 2.06.94-2.06 2.06-.94-2.06-.94-.94-2.06-.94 2.06-2.06.94zm-11 1L8.5 8.5l.94-2.06 2.06-.94-2.06-.94L8.5 2.5l-.94 2.06-2.06.94zm10 10l.94 2.06.94-2.06 2.06-.94-2.06-.94-.94-2.06-.94 2.06-2.06.94z\"/><path d=\"M17.41 7.96l-1.37-1.37c-.4-.4-.92-.59-1.43-.59-.52 0-1.04.2-1.43.59L10.3 9.45l-7.72 7.72c-.78.78-.78 2.05 0 2.83L4 21.41c.39.39.9.59 1.41.59.51 0 1.02-.2 1.41-.59l7.78-7.78 2.81-2.81c.8-.78.8-2.07 0-2.86zM5.41 20L4 18.59l7.72-7.72 1.47 1.35L5.41 20z\"/>\n",
              "  </svg>\n",
              "      </button>\n",
              "      \n",
              "  <style>\n",
              "    .colab-df-container {\n",
              "      display:flex;\n",
              "      flex-wrap:wrap;\n",
              "      gap: 12px;\n",
              "    }\n",
              "\n",
              "    .colab-df-convert {\n",
              "      background-color: #E8F0FE;\n",
              "      border: none;\n",
              "      border-radius: 50%;\n",
              "      cursor: pointer;\n",
              "      display: none;\n",
              "      fill: #1967D2;\n",
              "      height: 32px;\n",
              "      padding: 0 0 0 0;\n",
              "      width: 32px;\n",
              "    }\n",
              "\n",
              "    .colab-df-convert:hover {\n",
              "      background-color: #E2EBFA;\n",
              "      box-shadow: 0px 1px 2px rgba(60, 64, 67, 0.3), 0px 1px 3px 1px rgba(60, 64, 67, 0.15);\n",
              "      fill: #174EA6;\n",
              "    }\n",
              "\n",
              "    [theme=dark] .colab-df-convert {\n",
              "      background-color: #3B4455;\n",
              "      fill: #D2E3FC;\n",
              "    }\n",
              "\n",
              "    [theme=dark] .colab-df-convert:hover {\n",
              "      background-color: #434B5C;\n",
              "      box-shadow: 0px 1px 3px 1px rgba(0, 0, 0, 0.15);\n",
              "      filter: drop-shadow(0px 1px 2px rgba(0, 0, 0, 0.3));\n",
              "      fill: #FFFFFF;\n",
              "    }\n",
              "  </style>\n",
              "\n",
              "      <script>\n",
              "        const buttonEl =\n",
              "          document.querySelector('#df-440f8b21-06df-42f1-8b41-1d6a2d1fbba6 button.colab-df-convert');\n",
              "        buttonEl.style.display =\n",
              "          google.colab.kernel.accessAllowed ? 'block' : 'none';\n",
              "\n",
              "        async function convertToInteractive(key) {\n",
              "          const element = document.querySelector('#df-440f8b21-06df-42f1-8b41-1d6a2d1fbba6');\n",
              "          const dataTable =\n",
              "            await google.colab.kernel.invokeFunction('convertToInteractive',\n",
              "                                                     [key], {});\n",
              "          if (!dataTable) return;\n",
              "\n",
              "          const docLinkHtml = 'Like what you see? Visit the ' +\n",
              "            '<a target=\"_blank\" href=https://colab.research.google.com/notebooks/data_table.ipynb>data table notebook</a>'\n",
              "            + ' to learn more about interactive tables.';\n",
              "          element.innerHTML = '';\n",
              "          dataTable['output_type'] = 'display_data';\n",
              "          await google.colab.output.renderOutput(dataTable, element);\n",
              "          const docLink = document.createElement('div');\n",
              "          docLink.innerHTML = docLinkHtml;\n",
              "          element.appendChild(docLink);\n",
              "        }\n",
              "      </script>\n",
              "    </div>\n",
              "  </div>\n",
              "  "
            ]
          },
          "metadata": {},
          "execution_count": 5
        }
      ]
    },
    {
      "cell_type": "code",
      "source": [
        "test.head()"
      ],
      "metadata": {
        "colab": {
          "base_uri": "https://localhost:8080/",
          "height": 206
        },
        "id": "7kp1NFfaoFW1",
        "outputId": "381271e3-34a7-45fe-d125-f4b54a550d27"
      },
      "execution_count": null,
      "outputs": [
        {
          "output_type": "execute_result",
          "data": {
            "text/plain": [
              "   Unnamed: 0      Status  Life expectancy  Adult Mortality   BMI  HIV/AIDS  \\\n",
              "0         564  Developing             75.2             91.0  29.0       0.1   \n",
              "1         960  Developing             59.8             37.0  28.7      10.1   \n",
              "2        2265  Developing             75.6            121.0   6.0       0.1   \n",
              "3         132   Developed             88.0             73.0  55.7       0.1   \n",
              "4        2123   Developed             74.3            139.0  57.7       0.1   \n",
              "\n",
              "   Diphtheria  Polio           GDP  Income composition of resources  Schooling  \n",
              "0        99.0   99.0   5633.796160                            0.700       12.8  \n",
              "1        45.0   44.0   3976.148870                            0.633       12.3  \n",
              "2        95.0   95.0   5237.255334                            0.775       14.4  \n",
              "3        89.0   89.0  51126.741390                            0.880       15.7  \n",
              "4        89.0   89.0     92.277825                            0.798       15.7  "
            ],
            "text/html": [
              "\n",
              "  <div id=\"df-76a49cdb-e53b-403f-9e69-6d20c7b41669\">\n",
              "    <div class=\"colab-df-container\">\n",
              "      <div>\n",
              "<style scoped>\n",
              "    .dataframe tbody tr th:only-of-type {\n",
              "        vertical-align: middle;\n",
              "    }\n",
              "\n",
              "    .dataframe tbody tr th {\n",
              "        vertical-align: top;\n",
              "    }\n",
              "\n",
              "    .dataframe thead th {\n",
              "        text-align: right;\n",
              "    }\n",
              "</style>\n",
              "<table border=\"1\" class=\"dataframe\">\n",
              "  <thead>\n",
              "    <tr style=\"text-align: right;\">\n",
              "      <th></th>\n",
              "      <th>Unnamed: 0</th>\n",
              "      <th>Status</th>\n",
              "      <th>Life expectancy</th>\n",
              "      <th>Adult Mortality</th>\n",
              "      <th>BMI</th>\n",
              "      <th>HIV/AIDS</th>\n",
              "      <th>Diphtheria</th>\n",
              "      <th>Polio</th>\n",
              "      <th>GDP</th>\n",
              "      <th>Income composition of resources</th>\n",
              "      <th>Schooling</th>\n",
              "    </tr>\n",
              "  </thead>\n",
              "  <tbody>\n",
              "    <tr>\n",
              "      <th>0</th>\n",
              "      <td>564</td>\n",
              "      <td>Developing</td>\n",
              "      <td>75.2</td>\n",
              "      <td>91.0</td>\n",
              "      <td>29.0</td>\n",
              "      <td>0.1</td>\n",
              "      <td>99.0</td>\n",
              "      <td>99.0</td>\n",
              "      <td>5633.796160</td>\n",
              "      <td>0.700</td>\n",
              "      <td>12.8</td>\n",
              "    </tr>\n",
              "    <tr>\n",
              "      <th>1</th>\n",
              "      <td>960</td>\n",
              "      <td>Developing</td>\n",
              "      <td>59.8</td>\n",
              "      <td>37.0</td>\n",
              "      <td>28.7</td>\n",
              "      <td>10.1</td>\n",
              "      <td>45.0</td>\n",
              "      <td>44.0</td>\n",
              "      <td>3976.148870</td>\n",
              "      <td>0.633</td>\n",
              "      <td>12.3</td>\n",
              "    </tr>\n",
              "    <tr>\n",
              "      <th>2</th>\n",
              "      <td>2265</td>\n",
              "      <td>Developing</td>\n",
              "      <td>75.6</td>\n",
              "      <td>121.0</td>\n",
              "      <td>6.0</td>\n",
              "      <td>0.1</td>\n",
              "      <td>95.0</td>\n",
              "      <td>95.0</td>\n",
              "      <td>5237.255334</td>\n",
              "      <td>0.775</td>\n",
              "      <td>14.4</td>\n",
              "    </tr>\n",
              "    <tr>\n",
              "      <th>3</th>\n",
              "      <td>132</td>\n",
              "      <td>Developed</td>\n",
              "      <td>88.0</td>\n",
              "      <td>73.0</td>\n",
              "      <td>55.7</td>\n",
              "      <td>0.1</td>\n",
              "      <td>89.0</td>\n",
              "      <td>89.0</td>\n",
              "      <td>51126.741390</td>\n",
              "      <td>0.880</td>\n",
              "      <td>15.7</td>\n",
              "    </tr>\n",
              "    <tr>\n",
              "      <th>4</th>\n",
              "      <td>2123</td>\n",
              "      <td>Developed</td>\n",
              "      <td>74.3</td>\n",
              "      <td>139.0</td>\n",
              "      <td>57.7</td>\n",
              "      <td>0.1</td>\n",
              "      <td>89.0</td>\n",
              "      <td>89.0</td>\n",
              "      <td>92.277825</td>\n",
              "      <td>0.798</td>\n",
              "      <td>15.7</td>\n",
              "    </tr>\n",
              "  </tbody>\n",
              "</table>\n",
              "</div>\n",
              "      <button class=\"colab-df-convert\" onclick=\"convertToInteractive('df-76a49cdb-e53b-403f-9e69-6d20c7b41669')\"\n",
              "              title=\"Convert this dataframe to an interactive table.\"\n",
              "              style=\"display:none;\">\n",
              "        \n",
              "  <svg xmlns=\"http://www.w3.org/2000/svg\" height=\"24px\"viewBox=\"0 0 24 24\"\n",
              "       width=\"24px\">\n",
              "    <path d=\"M0 0h24v24H0V0z\" fill=\"none\"/>\n",
              "    <path d=\"M18.56 5.44l.94 2.06.94-2.06 2.06-.94-2.06-.94-.94-2.06-.94 2.06-2.06.94zm-11 1L8.5 8.5l.94-2.06 2.06-.94-2.06-.94L8.5 2.5l-.94 2.06-2.06.94zm10 10l.94 2.06.94-2.06 2.06-.94-2.06-.94-.94-2.06-.94 2.06-2.06.94z\"/><path d=\"M17.41 7.96l-1.37-1.37c-.4-.4-.92-.59-1.43-.59-.52 0-1.04.2-1.43.59L10.3 9.45l-7.72 7.72c-.78.78-.78 2.05 0 2.83L4 21.41c.39.39.9.59 1.41.59.51 0 1.02-.2 1.41-.59l7.78-7.78 2.81-2.81c.8-.78.8-2.07 0-2.86zM5.41 20L4 18.59l7.72-7.72 1.47 1.35L5.41 20z\"/>\n",
              "  </svg>\n",
              "      </button>\n",
              "      \n",
              "  <style>\n",
              "    .colab-df-container {\n",
              "      display:flex;\n",
              "      flex-wrap:wrap;\n",
              "      gap: 12px;\n",
              "    }\n",
              "\n",
              "    .colab-df-convert {\n",
              "      background-color: #E8F0FE;\n",
              "      border: none;\n",
              "      border-radius: 50%;\n",
              "      cursor: pointer;\n",
              "      display: none;\n",
              "      fill: #1967D2;\n",
              "      height: 32px;\n",
              "      padding: 0 0 0 0;\n",
              "      width: 32px;\n",
              "    }\n",
              "\n",
              "    .colab-df-convert:hover {\n",
              "      background-color: #E2EBFA;\n",
              "      box-shadow: 0px 1px 2px rgba(60, 64, 67, 0.3), 0px 1px 3px 1px rgba(60, 64, 67, 0.15);\n",
              "      fill: #174EA6;\n",
              "    }\n",
              "\n",
              "    [theme=dark] .colab-df-convert {\n",
              "      background-color: #3B4455;\n",
              "      fill: #D2E3FC;\n",
              "    }\n",
              "\n",
              "    [theme=dark] .colab-df-convert:hover {\n",
              "      background-color: #434B5C;\n",
              "      box-shadow: 0px 1px 3px 1px rgba(0, 0, 0, 0.15);\n",
              "      filter: drop-shadow(0px 1px 2px rgba(0, 0, 0, 0.3));\n",
              "      fill: #FFFFFF;\n",
              "    }\n",
              "  </style>\n",
              "\n",
              "      <script>\n",
              "        const buttonEl =\n",
              "          document.querySelector('#df-76a49cdb-e53b-403f-9e69-6d20c7b41669 button.colab-df-convert');\n",
              "        buttonEl.style.display =\n",
              "          google.colab.kernel.accessAllowed ? 'block' : 'none';\n",
              "\n",
              "        async function convertToInteractive(key) {\n",
              "          const element = document.querySelector('#df-76a49cdb-e53b-403f-9e69-6d20c7b41669');\n",
              "          const dataTable =\n",
              "            await google.colab.kernel.invokeFunction('convertToInteractive',\n",
              "                                                     [key], {});\n",
              "          if (!dataTable) return;\n",
              "\n",
              "          const docLinkHtml = 'Like what you see? Visit the ' +\n",
              "            '<a target=\"_blank\" href=https://colab.research.google.com/notebooks/data_table.ipynb>data table notebook</a>'\n",
              "            + ' to learn more about interactive tables.';\n",
              "          element.innerHTML = '';\n",
              "          dataTable['output_type'] = 'display_data';\n",
              "          await google.colab.output.renderOutput(dataTable, element);\n",
              "          const docLink = document.createElement('div');\n",
              "          docLink.innerHTML = docLinkHtml;\n",
              "          element.appendChild(docLink);\n",
              "        }\n",
              "      </script>\n",
              "    </div>\n",
              "  </div>\n",
              "  "
            ]
          },
          "metadata": {},
          "execution_count": 6
        }
      ]
    },
    {
      "cell_type": "code",
      "source": [
        "train.shape"
      ],
      "metadata": {
        "colab": {
          "base_uri": "https://localhost:8080/"
        },
        "id": "gXqgl_yAoFZk",
        "outputId": "4e20aa93-5369-4bc1-8a94-054bc5e3e771"
      },
      "execution_count": null,
      "outputs": [
        {
          "output_type": "execute_result",
          "data": {
            "text/plain": [
              "(1764, 11)"
            ]
          },
          "metadata": {},
          "execution_count": 7
        }
      ]
    },
    {
      "cell_type": "code",
      "source": [
        "test.shape"
      ],
      "metadata": {
        "colab": {
          "base_uri": "https://localhost:8080/"
        },
        "id": "bTFTjJiloFcG",
        "outputId": "042437e2-e43c-49e9-9eb4-14a9e02dd97d"
      },
      "execution_count": null,
      "outputs": [
        {
          "output_type": "execute_result",
          "data": {
            "text/plain": [
              "(441, 11)"
            ]
          },
          "metadata": {},
          "execution_count": 8
        }
      ]
    },
    {
      "cell_type": "code",
      "source": [
        "train.info()"
      ],
      "metadata": {
        "colab": {
          "base_uri": "https://localhost:8080/"
        },
        "id": "UAlHnzBWqU6F",
        "outputId": "d408982e-dbee-4f2c-8d78-6756efadc0b2"
      },
      "execution_count": null,
      "outputs": [
        {
          "output_type": "stream",
          "name": "stdout",
          "text": [
            "<class 'pandas.core.frame.DataFrame'>\n",
            "RangeIndex: 1764 entries, 0 to 1763\n",
            "Data columns (total 11 columns):\n",
            " #   Column                           Non-Null Count  Dtype  \n",
            "---  ------                           --------------  -----  \n",
            " 0   Unnamed: 0                       1764 non-null   int64  \n",
            " 1   Status                           1764 non-null   object \n",
            " 2   Life expectancy                  1764 non-null   float64\n",
            " 3   Adult Mortality                  1764 non-null   float64\n",
            " 4   BMI                              1764 non-null   float64\n",
            " 5   HIV/AIDS                         1764 non-null   float64\n",
            " 6   Diphtheria                       1764 non-null   float64\n",
            " 7   Polio                            1764 non-null   float64\n",
            " 8   GDP                              1764 non-null   float64\n",
            " 9   Income composition of resources  1764 non-null   float64\n",
            " 10  Schooling                        1764 non-null   float64\n",
            "dtypes: float64(9), int64(1), object(1)\n",
            "memory usage: 151.7+ KB\n"
          ]
        }
      ]
    },
    {
      "cell_type": "code",
      "source": [
        "train = train.loc[:, ~train.columns.str.contains('^Unnamed')]"
      ],
      "metadata": {
        "id": "FyjzjQSetWeJ"
      },
      "execution_count": null,
      "outputs": []
    },
    {
      "cell_type": "code",
      "source": [
        "train.head()"
      ],
      "metadata": {
        "colab": {
          "base_uri": "https://localhost:8080/",
          "height": 206
        },
        "id": "zFg_beSXt_-A",
        "outputId": "f8d6b83b-3216-4568-94b0-36eb6a7d12ee"
      },
      "execution_count": null,
      "outputs": [
        {
          "output_type": "execute_result",
          "data": {
            "text/plain": [
              "       Status  Life expectancy  Adult Mortality   BMI  HIV/AIDS  Diphtheria  \\\n",
              "0  Developing             62.9            286.0  16.5       0.7        96.0   \n",
              "1   Developed             71.0             26.0  56.6       0.1        99.0   \n",
              "2  Developing             43.8            614.0  16.8      18.7        85.0   \n",
              "3   Developed             83.4             49.0  57.4       0.1        97.0   \n",
              "4  Developing             45.4              7.0  27.9      26.8         7.0   \n",
              "\n",
              "   Polio          GDP  Income composition of resources  Schooling  \n",
              "0   96.0   582.775532                            0.405        5.0  \n",
              "1   99.0  6351.812500                            0.776       15.5  \n",
              "2   85.0   341.955625                            0.418        9.6  \n",
              "3   97.0  8989.842400                            0.938       16.0  \n",
              "4   71.0   414.796232                            0.408        9.5  "
            ],
            "text/html": [
              "\n",
              "  <div id=\"df-9b2b8e69-6938-4648-861b-b2a1b7a4432a\">\n",
              "    <div class=\"colab-df-container\">\n",
              "      <div>\n",
              "<style scoped>\n",
              "    .dataframe tbody tr th:only-of-type {\n",
              "        vertical-align: middle;\n",
              "    }\n",
              "\n",
              "    .dataframe tbody tr th {\n",
              "        vertical-align: top;\n",
              "    }\n",
              "\n",
              "    .dataframe thead th {\n",
              "        text-align: right;\n",
              "    }\n",
              "</style>\n",
              "<table border=\"1\" class=\"dataframe\">\n",
              "  <thead>\n",
              "    <tr style=\"text-align: right;\">\n",
              "      <th></th>\n",
              "      <th>Status</th>\n",
              "      <th>Life expectancy</th>\n",
              "      <th>Adult Mortality</th>\n",
              "      <th>BMI</th>\n",
              "      <th>HIV/AIDS</th>\n",
              "      <th>Diphtheria</th>\n",
              "      <th>Polio</th>\n",
              "      <th>GDP</th>\n",
              "      <th>Income composition of resources</th>\n",
              "      <th>Schooling</th>\n",
              "    </tr>\n",
              "  </thead>\n",
              "  <tbody>\n",
              "    <tr>\n",
              "      <th>0</th>\n",
              "      <td>Developing</td>\n",
              "      <td>62.9</td>\n",
              "      <td>286.0</td>\n",
              "      <td>16.5</td>\n",
              "      <td>0.7</td>\n",
              "      <td>96.0</td>\n",
              "      <td>96.0</td>\n",
              "      <td>582.775532</td>\n",
              "      <td>0.405</td>\n",
              "      <td>5.0</td>\n",
              "    </tr>\n",
              "    <tr>\n",
              "      <th>1</th>\n",
              "      <td>Developed</td>\n",
              "      <td>71.0</td>\n",
              "      <td>26.0</td>\n",
              "      <td>56.6</td>\n",
              "      <td>0.1</td>\n",
              "      <td>99.0</td>\n",
              "      <td>99.0</td>\n",
              "      <td>6351.812500</td>\n",
              "      <td>0.776</td>\n",
              "      <td>15.5</td>\n",
              "    </tr>\n",
              "    <tr>\n",
              "      <th>2</th>\n",
              "      <td>Developing</td>\n",
              "      <td>43.8</td>\n",
              "      <td>614.0</td>\n",
              "      <td>16.8</td>\n",
              "      <td>18.7</td>\n",
              "      <td>85.0</td>\n",
              "      <td>85.0</td>\n",
              "      <td>341.955625</td>\n",
              "      <td>0.418</td>\n",
              "      <td>9.6</td>\n",
              "    </tr>\n",
              "    <tr>\n",
              "      <th>3</th>\n",
              "      <td>Developed</td>\n",
              "      <td>83.4</td>\n",
              "      <td>49.0</td>\n",
              "      <td>57.4</td>\n",
              "      <td>0.1</td>\n",
              "      <td>97.0</td>\n",
              "      <td>97.0</td>\n",
              "      <td>8989.842400</td>\n",
              "      <td>0.938</td>\n",
              "      <td>16.0</td>\n",
              "    </tr>\n",
              "    <tr>\n",
              "      <th>4</th>\n",
              "      <td>Developing</td>\n",
              "      <td>45.4</td>\n",
              "      <td>7.0</td>\n",
              "      <td>27.9</td>\n",
              "      <td>26.8</td>\n",
              "      <td>7.0</td>\n",
              "      <td>71.0</td>\n",
              "      <td>414.796232</td>\n",
              "      <td>0.408</td>\n",
              "      <td>9.5</td>\n",
              "    </tr>\n",
              "  </tbody>\n",
              "</table>\n",
              "</div>\n",
              "      <button class=\"colab-df-convert\" onclick=\"convertToInteractive('df-9b2b8e69-6938-4648-861b-b2a1b7a4432a')\"\n",
              "              title=\"Convert this dataframe to an interactive table.\"\n",
              "              style=\"display:none;\">\n",
              "        \n",
              "  <svg xmlns=\"http://www.w3.org/2000/svg\" height=\"24px\"viewBox=\"0 0 24 24\"\n",
              "       width=\"24px\">\n",
              "    <path d=\"M0 0h24v24H0V0z\" fill=\"none\"/>\n",
              "    <path d=\"M18.56 5.44l.94 2.06.94-2.06 2.06-.94-2.06-.94-.94-2.06-.94 2.06-2.06.94zm-11 1L8.5 8.5l.94-2.06 2.06-.94-2.06-.94L8.5 2.5l-.94 2.06-2.06.94zm10 10l.94 2.06.94-2.06 2.06-.94-2.06-.94-.94-2.06-.94 2.06-2.06.94z\"/><path d=\"M17.41 7.96l-1.37-1.37c-.4-.4-.92-.59-1.43-.59-.52 0-1.04.2-1.43.59L10.3 9.45l-7.72 7.72c-.78.78-.78 2.05 0 2.83L4 21.41c.39.39.9.59 1.41.59.51 0 1.02-.2 1.41-.59l7.78-7.78 2.81-2.81c.8-.78.8-2.07 0-2.86zM5.41 20L4 18.59l7.72-7.72 1.47 1.35L5.41 20z\"/>\n",
              "  </svg>\n",
              "      </button>\n",
              "      \n",
              "  <style>\n",
              "    .colab-df-container {\n",
              "      display:flex;\n",
              "      flex-wrap:wrap;\n",
              "      gap: 12px;\n",
              "    }\n",
              "\n",
              "    .colab-df-convert {\n",
              "      background-color: #E8F0FE;\n",
              "      border: none;\n",
              "      border-radius: 50%;\n",
              "      cursor: pointer;\n",
              "      display: none;\n",
              "      fill: #1967D2;\n",
              "      height: 32px;\n",
              "      padding: 0 0 0 0;\n",
              "      width: 32px;\n",
              "    }\n",
              "\n",
              "    .colab-df-convert:hover {\n",
              "      background-color: #E2EBFA;\n",
              "      box-shadow: 0px 1px 2px rgba(60, 64, 67, 0.3), 0px 1px 3px 1px rgba(60, 64, 67, 0.15);\n",
              "      fill: #174EA6;\n",
              "    }\n",
              "\n",
              "    [theme=dark] .colab-df-convert {\n",
              "      background-color: #3B4455;\n",
              "      fill: #D2E3FC;\n",
              "    }\n",
              "\n",
              "    [theme=dark] .colab-df-convert:hover {\n",
              "      background-color: #434B5C;\n",
              "      box-shadow: 0px 1px 3px 1px rgba(0, 0, 0, 0.15);\n",
              "      filter: drop-shadow(0px 1px 2px rgba(0, 0, 0, 0.3));\n",
              "      fill: #FFFFFF;\n",
              "    }\n",
              "  </style>\n",
              "\n",
              "      <script>\n",
              "        const buttonEl =\n",
              "          document.querySelector('#df-9b2b8e69-6938-4648-861b-b2a1b7a4432a button.colab-df-convert');\n",
              "        buttonEl.style.display =\n",
              "          google.colab.kernel.accessAllowed ? 'block' : 'none';\n",
              "\n",
              "        async function convertToInteractive(key) {\n",
              "          const element = document.querySelector('#df-9b2b8e69-6938-4648-861b-b2a1b7a4432a');\n",
              "          const dataTable =\n",
              "            await google.colab.kernel.invokeFunction('convertToInteractive',\n",
              "                                                     [key], {});\n",
              "          if (!dataTable) return;\n",
              "\n",
              "          const docLinkHtml = 'Like what you see? Visit the ' +\n",
              "            '<a target=\"_blank\" href=https://colab.research.google.com/notebooks/data_table.ipynb>data table notebook</a>'\n",
              "            + ' to learn more about interactive tables.';\n",
              "          element.innerHTML = '';\n",
              "          dataTable['output_type'] = 'display_data';\n",
              "          await google.colab.output.renderOutput(dataTable, element);\n",
              "          const docLink = document.createElement('div');\n",
              "          docLink.innerHTML = docLinkHtml;\n",
              "          element.appendChild(docLink);\n",
              "        }\n",
              "      </script>\n",
              "    </div>\n",
              "  </div>\n",
              "  "
            ]
          },
          "metadata": {},
          "execution_count": 11
        }
      ]
    },
    {
      "cell_type": "code",
      "source": [
        "test = test.loc[:, ~test.columns.str.contains('^Unnamed')]"
      ],
      "metadata": {
        "id": "TMtv_DpxuFAg"
      },
      "execution_count": null,
      "outputs": []
    },
    {
      "cell_type": "code",
      "source": [
        "test.head()"
      ],
      "metadata": {
        "colab": {
          "base_uri": "https://localhost:8080/",
          "height": 206
        },
        "id": "MXFq_0mQuFFq",
        "outputId": "2987e3e3-6810-40bb-a4bc-6b44c0a167d4"
      },
      "execution_count": null,
      "outputs": [
        {
          "output_type": "execute_result",
          "data": {
            "text/plain": [
              "       Status  Life expectancy  Adult Mortality   BMI  HIV/AIDS  Diphtheria  \\\n",
              "0  Developing             75.2             91.0  29.0       0.1        99.0   \n",
              "1  Developing             59.8             37.0  28.7      10.1        45.0   \n",
              "2  Developing             75.6            121.0   6.0       0.1        95.0   \n",
              "3   Developed             88.0             73.0  55.7       0.1        89.0   \n",
              "4   Developed             74.3            139.0  57.7       0.1        89.0   \n",
              "\n",
              "   Polio           GDP  Income composition of resources  Schooling  \n",
              "0   99.0   5633.796160                            0.700       12.8  \n",
              "1   44.0   3976.148870                            0.633       12.3  \n",
              "2   95.0   5237.255334                            0.775       14.4  \n",
              "3   89.0  51126.741390                            0.880       15.7  \n",
              "4   89.0     92.277825                            0.798       15.7  "
            ],
            "text/html": [
              "\n",
              "  <div id=\"df-77a8b380-7889-4f5e-aa2d-13ed2227604a\">\n",
              "    <div class=\"colab-df-container\">\n",
              "      <div>\n",
              "<style scoped>\n",
              "    .dataframe tbody tr th:only-of-type {\n",
              "        vertical-align: middle;\n",
              "    }\n",
              "\n",
              "    .dataframe tbody tr th {\n",
              "        vertical-align: top;\n",
              "    }\n",
              "\n",
              "    .dataframe thead th {\n",
              "        text-align: right;\n",
              "    }\n",
              "</style>\n",
              "<table border=\"1\" class=\"dataframe\">\n",
              "  <thead>\n",
              "    <tr style=\"text-align: right;\">\n",
              "      <th></th>\n",
              "      <th>Status</th>\n",
              "      <th>Life expectancy</th>\n",
              "      <th>Adult Mortality</th>\n",
              "      <th>BMI</th>\n",
              "      <th>HIV/AIDS</th>\n",
              "      <th>Diphtheria</th>\n",
              "      <th>Polio</th>\n",
              "      <th>GDP</th>\n",
              "      <th>Income composition of resources</th>\n",
              "      <th>Schooling</th>\n",
              "    </tr>\n",
              "  </thead>\n",
              "  <tbody>\n",
              "    <tr>\n",
              "      <th>0</th>\n",
              "      <td>Developing</td>\n",
              "      <td>75.2</td>\n",
              "      <td>91.0</td>\n",
              "      <td>29.0</td>\n",
              "      <td>0.1</td>\n",
              "      <td>99.0</td>\n",
              "      <td>99.0</td>\n",
              "      <td>5633.796160</td>\n",
              "      <td>0.700</td>\n",
              "      <td>12.8</td>\n",
              "    </tr>\n",
              "    <tr>\n",
              "      <th>1</th>\n",
              "      <td>Developing</td>\n",
              "      <td>59.8</td>\n",
              "      <td>37.0</td>\n",
              "      <td>28.7</td>\n",
              "      <td>10.1</td>\n",
              "      <td>45.0</td>\n",
              "      <td>44.0</td>\n",
              "      <td>3976.148870</td>\n",
              "      <td>0.633</td>\n",
              "      <td>12.3</td>\n",
              "    </tr>\n",
              "    <tr>\n",
              "      <th>2</th>\n",
              "      <td>Developing</td>\n",
              "      <td>75.6</td>\n",
              "      <td>121.0</td>\n",
              "      <td>6.0</td>\n",
              "      <td>0.1</td>\n",
              "      <td>95.0</td>\n",
              "      <td>95.0</td>\n",
              "      <td>5237.255334</td>\n",
              "      <td>0.775</td>\n",
              "      <td>14.4</td>\n",
              "    </tr>\n",
              "    <tr>\n",
              "      <th>3</th>\n",
              "      <td>Developed</td>\n",
              "      <td>88.0</td>\n",
              "      <td>73.0</td>\n",
              "      <td>55.7</td>\n",
              "      <td>0.1</td>\n",
              "      <td>89.0</td>\n",
              "      <td>89.0</td>\n",
              "      <td>51126.741390</td>\n",
              "      <td>0.880</td>\n",
              "      <td>15.7</td>\n",
              "    </tr>\n",
              "    <tr>\n",
              "      <th>4</th>\n",
              "      <td>Developed</td>\n",
              "      <td>74.3</td>\n",
              "      <td>139.0</td>\n",
              "      <td>57.7</td>\n",
              "      <td>0.1</td>\n",
              "      <td>89.0</td>\n",
              "      <td>89.0</td>\n",
              "      <td>92.277825</td>\n",
              "      <td>0.798</td>\n",
              "      <td>15.7</td>\n",
              "    </tr>\n",
              "  </tbody>\n",
              "</table>\n",
              "</div>\n",
              "      <button class=\"colab-df-convert\" onclick=\"convertToInteractive('df-77a8b380-7889-4f5e-aa2d-13ed2227604a')\"\n",
              "              title=\"Convert this dataframe to an interactive table.\"\n",
              "              style=\"display:none;\">\n",
              "        \n",
              "  <svg xmlns=\"http://www.w3.org/2000/svg\" height=\"24px\"viewBox=\"0 0 24 24\"\n",
              "       width=\"24px\">\n",
              "    <path d=\"M0 0h24v24H0V0z\" fill=\"none\"/>\n",
              "    <path d=\"M18.56 5.44l.94 2.06.94-2.06 2.06-.94-2.06-.94-.94-2.06-.94 2.06-2.06.94zm-11 1L8.5 8.5l.94-2.06 2.06-.94-2.06-.94L8.5 2.5l-.94 2.06-2.06.94zm10 10l.94 2.06.94-2.06 2.06-.94-2.06-.94-.94-2.06-.94 2.06-2.06.94z\"/><path d=\"M17.41 7.96l-1.37-1.37c-.4-.4-.92-.59-1.43-.59-.52 0-1.04.2-1.43.59L10.3 9.45l-7.72 7.72c-.78.78-.78 2.05 0 2.83L4 21.41c.39.39.9.59 1.41.59.51 0 1.02-.2 1.41-.59l7.78-7.78 2.81-2.81c.8-.78.8-2.07 0-2.86zM5.41 20L4 18.59l7.72-7.72 1.47 1.35L5.41 20z\"/>\n",
              "  </svg>\n",
              "      </button>\n",
              "      \n",
              "  <style>\n",
              "    .colab-df-container {\n",
              "      display:flex;\n",
              "      flex-wrap:wrap;\n",
              "      gap: 12px;\n",
              "    }\n",
              "\n",
              "    .colab-df-convert {\n",
              "      background-color: #E8F0FE;\n",
              "      border: none;\n",
              "      border-radius: 50%;\n",
              "      cursor: pointer;\n",
              "      display: none;\n",
              "      fill: #1967D2;\n",
              "      height: 32px;\n",
              "      padding: 0 0 0 0;\n",
              "      width: 32px;\n",
              "    }\n",
              "\n",
              "    .colab-df-convert:hover {\n",
              "      background-color: #E2EBFA;\n",
              "      box-shadow: 0px 1px 2px rgba(60, 64, 67, 0.3), 0px 1px 3px 1px rgba(60, 64, 67, 0.15);\n",
              "      fill: #174EA6;\n",
              "    }\n",
              "\n",
              "    [theme=dark] .colab-df-convert {\n",
              "      background-color: #3B4455;\n",
              "      fill: #D2E3FC;\n",
              "    }\n",
              "\n",
              "    [theme=dark] .colab-df-convert:hover {\n",
              "      background-color: #434B5C;\n",
              "      box-shadow: 0px 1px 3px 1px rgba(0, 0, 0, 0.15);\n",
              "      filter: drop-shadow(0px 1px 2px rgba(0, 0, 0, 0.3));\n",
              "      fill: #FFFFFF;\n",
              "    }\n",
              "  </style>\n",
              "\n",
              "      <script>\n",
              "        const buttonEl =\n",
              "          document.querySelector('#df-77a8b380-7889-4f5e-aa2d-13ed2227604a button.colab-df-convert');\n",
              "        buttonEl.style.display =\n",
              "          google.colab.kernel.accessAllowed ? 'block' : 'none';\n",
              "\n",
              "        async function convertToInteractive(key) {\n",
              "          const element = document.querySelector('#df-77a8b380-7889-4f5e-aa2d-13ed2227604a');\n",
              "          const dataTable =\n",
              "            await google.colab.kernel.invokeFunction('convertToInteractive',\n",
              "                                                     [key], {});\n",
              "          if (!dataTable) return;\n",
              "\n",
              "          const docLinkHtml = 'Like what you see? Visit the ' +\n",
              "            '<a target=\"_blank\" href=https://colab.research.google.com/notebooks/data_table.ipynb>data table notebook</a>'\n",
              "            + ' to learn more about interactive tables.';\n",
              "          element.innerHTML = '';\n",
              "          dataTable['output_type'] = 'display_data';\n",
              "          await google.colab.output.renderOutput(dataTable, element);\n",
              "          const docLink = document.createElement('div');\n",
              "          docLink.innerHTML = docLinkHtml;\n",
              "          element.appendChild(docLink);\n",
              "        }\n",
              "      </script>\n",
              "    </div>\n",
              "  </div>\n",
              "  "
            ]
          },
          "metadata": {},
          "execution_count": 13
        }
      ]
    },
    {
      "cell_type": "code",
      "source": [
        "train.isna().sum()"
      ],
      "metadata": {
        "colab": {
          "base_uri": "https://localhost:8080/"
        },
        "id": "XOOBH1kGQSeH",
        "outputId": "f54a056e-c34a-422e-d607-209753f4d955"
      },
      "execution_count": null,
      "outputs": [
        {
          "output_type": "execute_result",
          "data": {
            "text/plain": [
              "Status                             0\n",
              "Life expectancy                    0\n",
              "Adult Mortality                    0\n",
              "BMI                                0\n",
              "HIV/AIDS                           0\n",
              "Diphtheria                         0\n",
              "Polio                              0\n",
              "GDP                                0\n",
              "Income composition of resources    0\n",
              "Schooling                          0\n",
              "dtype: int64"
            ]
          },
          "metadata": {},
          "execution_count": 14
        }
      ]
    },
    {
      "cell_type": "code",
      "source": [
        "test.isna().sum()"
      ],
      "metadata": {
        "colab": {
          "base_uri": "https://localhost:8080/"
        },
        "id": "J6YStIMwQTQt",
        "outputId": "ae16896e-9e34-495a-92f9-655465cf8cf7"
      },
      "execution_count": null,
      "outputs": [
        {
          "output_type": "execute_result",
          "data": {
            "text/plain": [
              "Status                             0\n",
              "Life expectancy                    0\n",
              "Adult Mortality                    0\n",
              "BMI                                0\n",
              "HIV/AIDS                           0\n",
              "Diphtheria                         0\n",
              "Polio                              0\n",
              "GDP                                0\n",
              "Income composition of resources    0\n",
              "Schooling                          0\n",
              "dtype: int64"
            ]
          },
          "metadata": {},
          "execution_count": 15
        }
      ]
    },
    {
      "cell_type": "code",
      "source": [
        "plt.figure(figsize=(14,8))\n",
        "correlation = train.corr()\n",
        "sns.heatmap(correlation,xticklabels=correlation.columns,yticklabels=correlation.columns,annot=True)"
      ],
      "metadata": {
        "colab": {
          "base_uri": "https://localhost:8080/",
          "height": 658
        },
        "id": "cKgQMCbBqU-9",
        "outputId": "dd32b7ab-95b7-4196-e607-80baa4aac262"
      },
      "execution_count": null,
      "outputs": [
        {
          "output_type": "execute_result",
          "data": {
            "text/plain": [
              "<matplotlib.axes._subplots.AxesSubplot at 0x7f24f82a2290>"
            ]
          },
          "metadata": {},
          "execution_count": 16
        },
        {
          "output_type": "display_data",
          "data": {
            "text/plain": [
              "<Figure size 1008x576 with 2 Axes>"
            ],
            "image/png": "[encoded data removed]"
          },
          "metadata": {
            "needs_background": "light"
          }
        }
      ]
    },
    {
      "cell_type": "code",
      "source": [
        "correlation.unstack().sort_values()"
      ],
      "metadata": {
        "colab": {
          "base_uri": "https://localhost:8080/"
        },
        "id": "LsLRjN4ItVKx",
        "outputId": "dc721993-312a-47a7-d0ca-60be94a6992a"
      },
      "execution_count": null,
      "outputs": [
        {
          "output_type": "execute_result",
          "data": {
            "text/plain": [
              "Life expectancy                  Adult Mortality                   -0.670124\n",
              "Adult Mortality                  Life expectancy                   -0.670124\n",
              "HIV/AIDS                         Life expectancy                   -0.566571\n",
              "Life expectancy                  HIV/AIDS                          -0.566571\n",
              "Income composition of resources  Adult Mortality                   -0.446854\n",
              "                                                                      ...   \n",
              "HIV/AIDS                         HIV/AIDS                           1.000000\n",
              "BMI                              BMI                                1.000000\n",
              "Adult Mortality                  Adult Mortality                    1.000000\n",
              "Income composition of resources  Income composition of resources    1.000000\n",
              "Schooling                        Schooling                          1.000000\n",
              "Length: 81, dtype: float64"
            ]
          },
          "metadata": {},
          "execution_count": 17
        }
      ]
    },
    {
      "cell_type": "code",
      "source": [
        "correlation.where(np.triu(np.ones(correlation.shape), k=1).astype(np.bool)).unstack().dropna().sort_values(ascending=False)"
      ],
      "metadata": {
        "colab": {
          "base_uri": "https://localhost:8080/"
        },
        "id": "Ft_9nTOeqVDw",
        "outputId": "964eb1b3-f96e-45ee-8805-24180b9555b7"
      },
      "execution_count": null,
      "outputs": [
        {
          "output_type": "stream",
          "name": "stderr",
          "text": [
            "/usr/local/lib/python3.7/dist-packages/ipykernel_launcher.py:1: DeprecationWarning: `np.bool` is a deprecated alias for the builtin `bool`. To silence this warning, use `bool` by itself. Doing this will not modify any behavior and is safe. If you specifically wanted the numpy scalar type, use `np.bool_` here.\n",
            "Deprecated in NumPy 1.20; for more details and guidance: https://numpy.org/devdocs/release/1.20.0-notes.html#deprecations\n",
            "  \"\"\"Entry point for launching an IPython kernel.\n"
          ]
        },
        {
          "output_type": "execute_result",
          "data": {
            "text/plain": [
              "Schooling                        Income composition of resources    0.794391\n",
              "                                 Life expectancy                    0.762141\n",
              "Income composition of resources  Life expectancy                    0.735691\n",
              "Polio                            Diphtheria                         0.660331\n",
              "BMI                              Life expectancy                    0.582934\n",
              "Schooling                        BMI                                0.577822\n",
              "HIV/AIDS                         Adult Mortality                    0.535143\n",
              "Income composition of resources  BMI                                0.527010\n",
              "                                 GDP                                0.463836\n",
              "GDP                              Life expectancy                    0.462587\n",
              "Schooling                        GDP                                0.449239\n",
              "Diphtheria                       Life expectancy                    0.437837\n",
              "Polio                            Life expectancy                    0.430354\n",
              "Schooling                        Diphtheria                         0.409496\n",
              "                                 Polio                              0.407173\n",
              "Income composition of resources  Diphtheria                         0.390193\n",
              "                                 Polio                              0.362425\n",
              "GDP                              BMI                                0.289874\n",
              "Polio                            BMI                                0.278481\n",
              "Diphtheria                       BMI                                0.271002\n",
              "GDP                              Polio                              0.205119\n",
              "                                 Diphtheria                         0.190812\n",
              "Polio                            HIV/AIDS                          -0.130351\n",
              "GDP                              HIV/AIDS                          -0.132223\n",
              "Diphtheria                       HIV/AIDS                          -0.140032\n",
              "                                 Adult Mortality                   -0.209256\n",
              "Polio                            Adult Mortality                   -0.220611\n",
              "Schooling                        HIV/AIDS                          -0.232323\n",
              "HIV/AIDS                         BMI                               -0.239166\n",
              "Income composition of resources  HIV/AIDS                          -0.253209\n",
              "GDP                              Adult Mortality                   -0.294699\n",
              "BMI                              Adult Mortality                   -0.374731\n",
              "Schooling                        Adult Mortality                   -0.432329\n",
              "Income composition of resources  Adult Mortality                   -0.446854\n",
              "HIV/AIDS                         Life expectancy                   -0.566571\n",
              "Adult Mortality                  Life expectancy                   -0.670124\n",
              "dtype: float64"
            ]
          },
          "metadata": {},
          "execution_count": 18
        }
      ]
    },
    {
      "cell_type": "markdown",
      "source": [
        "1. How many independent variables/features are there in the data set?\n",
        "\n",
        "Ans: There are 9 independant variables , i.e. Status, Adult Mortality, BMI, HIV/AIDS, Diptheria, Polio, GDP, INcome composition of resources, Schooling."
      ],
      "metadata": {
        "id": "Qp98jL5jpuzn"
      }
    },
    {
      "cell_type": "markdown",
      "source": [
        "2. How many numerical features are there?\n",
        "\n",
        "Ans: There are 9 numerical features, i.e. Life expectancy, Adult Mortality, BMI, HIV/AIDS, Diptheria, Polio, GDP, INcome composition of resources, Schooling."
      ],
      "metadata": {
        "id": "dQDPO3FarGcf"
      }
    },
    {
      "cell_type": "markdown",
      "source": [
        "3. How many categorical features are there?\n",
        "\n",
        "Ans: There is 1 categorical feature, i.e. Status."
      ],
      "metadata": {
        "id": "ALUx86rTr542"
      }
    },
    {
      "cell_type": "markdown",
      "source": [
        "4. Which is the third most important feature based on correlation for regression?\n",
        "\n",
        "Ans: BMI is the 3rd most important feature based on correlation to the dependant variable (Life expectancy) with 58.29%.\n"
      ],
      "metadata": {
        "id": "Rptv1hicFer4"
      }
    },
    {
      "cell_type": "markdown",
      "source": [
        "5. Which is the least important feature based on correlation for regression?\n",
        "\n",
        "Ans: Adult Mortality is the least important feature based on correlation to the dependant variable (Life expectancy)."
      ],
      "metadata": {
        "id": "8H4HxQ-_OZzK"
      }
    },
    {
      "cell_type": "markdown",
      "source": [
        "# **Multiple Linear Regression**"
      ],
      "metadata": {
        "id": "8QmRPt4uOzIo"
      }
    },
    {
      "cell_type": "code",
      "source": [
        "train['Status'] = train['Status'].map({'Developed':True,'Developing':False})"
      ],
      "metadata": {
        "id": "TMe0W2WsoFfI"
      },
      "execution_count": null,
      "outputs": []
    },
    {
      "cell_type": "code",
      "source": [
        "train.head()"
      ],
      "metadata": {
        "colab": {
          "base_uri": "https://localhost:8080/",
          "height": 206
        },
        "id": "VAmQA3C6pBn_",
        "outputId": "b306077c-20d6-4bf5-94b6-98e970ae96b7"
      },
      "execution_count": null,
      "outputs": [
        {
          "output_type": "execute_result",
          "data": {
            "text/plain": [
              "   Status  Life expectancy  Adult Mortality   BMI  HIV/AIDS  Diphtheria  \\\n",
              "0   False             62.9            286.0  16.5       0.7        96.0   \n",
              "1    True             71.0             26.0  56.6       0.1        99.0   \n",
              "2   False             43.8            614.0  16.8      18.7        85.0   \n",
              "3    True             83.4             49.0  57.4       0.1        97.0   \n",
              "4   False             45.4              7.0  27.9      26.8         7.0   \n",
              "\n",
              "   Polio          GDP  Income composition of resources  Schooling  \n",
              "0   96.0   582.775532                            0.405        5.0  \n",
              "1   99.0  6351.812500                            0.776       15.5  \n",
              "2   85.0   341.955625                            0.418        9.6  \n",
              "3   97.0  8989.842400                            0.938       16.0  \n",
              "4   71.0   414.796232                            0.408        9.5  "
            ],
            "text/html": [
              "\n",
              "  <div id=\"df-2b9f1609-1c8c-4f9c-8689-c700c3078d70\">\n",
              "    <div class=\"colab-df-container\">\n",
              "      <div>\n",
              "<style scoped>\n",
              "    .dataframe tbody tr th:only-of-type {\n",
              "        vertical-align: middle;\n",
              "    }\n",
              "\n",
              "    .dataframe tbody tr th {\n",
              "        vertical-align: top;\n",
              "    }\n",
              "\n",
              "    .dataframe thead th {\n",
              "        text-align: right;\n",
              "    }\n",
              "</style>\n",
              "<table border=\"1\" class=\"dataframe\">\n",
              "  <thead>\n",
              "    <tr style=\"text-align: right;\">\n",
              "      <th></th>\n",
              "      <th>Status</th>\n",
              "      <th>Life expectancy</th>\n",
              "      <th>Adult Mortality</th>\n",
              "      <th>BMI</th>\n",
              "      <th>HIV/AIDS</th>\n",
              "      <th>Diphtheria</th>\n",
              "      <th>Polio</th>\n",
              "      <th>GDP</th>\n",
              "      <th>Income composition of resources</th>\n",
              "      <th>Schooling</th>\n",
              "    </tr>\n",
              "  </thead>\n",
              "  <tbody>\n",
              "    <tr>\n",
              "      <th>0</th>\n",
              "      <td>False</td>\n",
              "      <td>62.9</td>\n",
              "      <td>286.0</td>\n",
              "      <td>16.5</td>\n",
              "      <td>0.7</td>\n",
              "      <td>96.0</td>\n",
              "      <td>96.0</td>\n",
              "      <td>582.775532</td>\n",
              "      <td>0.405</td>\n",
              "      <td>5.0</td>\n",
              "    </tr>\n",
              "    <tr>\n",
              "      <th>1</th>\n",
              "      <td>True</td>\n",
              "      <td>71.0</td>\n",
              "      <td>26.0</td>\n",
              "      <td>56.6</td>\n",
              "      <td>0.1</td>\n",
              "      <td>99.0</td>\n",
              "      <td>99.0</td>\n",
              "      <td>6351.812500</td>\n",
              "      <td>0.776</td>\n",
              "      <td>15.5</td>\n",
              "    </tr>\n",
              "    <tr>\n",
              "      <th>2</th>\n",
              "      <td>False</td>\n",
              "      <td>43.8</td>\n",
              "      <td>614.0</td>\n",
              "      <td>16.8</td>\n",
              "      <td>18.7</td>\n",
              "      <td>85.0</td>\n",
              "      <td>85.0</td>\n",
              "      <td>341.955625</td>\n",
              "      <td>0.418</td>\n",
              "      <td>9.6</td>\n",
              "    </tr>\n",
              "    <tr>\n",
              "      <th>3</th>\n",
              "      <td>True</td>\n",
              "      <td>83.4</td>\n",
              "      <td>49.0</td>\n",
              "      <td>57.4</td>\n",
              "      <td>0.1</td>\n",
              "      <td>97.0</td>\n",
              "      <td>97.0</td>\n",
              "      <td>8989.842400</td>\n",
              "      <td>0.938</td>\n",
              "      <td>16.0</td>\n",
              "    </tr>\n",
              "    <tr>\n",
              "      <th>4</th>\n",
              "      <td>False</td>\n",
              "      <td>45.4</td>\n",
              "      <td>7.0</td>\n",
              "      <td>27.9</td>\n",
              "      <td>26.8</td>\n",
              "      <td>7.0</td>\n",
              "      <td>71.0</td>\n",
              "      <td>414.796232</td>\n",
              "      <td>0.408</td>\n",
              "      <td>9.5</td>\n",
              "    </tr>\n",
              "  </tbody>\n",
              "</table>\n",
              "</div>\n",
              "      <button class=\"colab-df-convert\" onclick=\"convertToInteractive('df-2b9f1609-1c8c-4f9c-8689-c700c3078d70')\"\n",
              "              title=\"Convert this dataframe to an interactive table.\"\n",
              "              style=\"display:none;\">\n",
              "        \n",
              "  <svg xmlns=\"http://www.w3.org/2000/svg\" height=\"24px\"viewBox=\"0 0 24 24\"\n",
              "       width=\"24px\">\n",
              "    <path d=\"M0 0h24v24H0V0z\" fill=\"none\"/>\n",
              "    <path d=\"M18.56 5.44l.94 2.06.94-2.06 2.06-.94-2.06-.94-.94-2.06-.94 2.06-2.06.94zm-11 1L8.5 8.5l.94-2.06 2.06-.94-2.06-.94L8.5 2.5l-.94 2.06-2.06.94zm10 10l.94 2.06.94-2.06 2.06-.94-2.06-.94-.94-2.06-.94 2.06-2.06.94z\"/><path d=\"M17.41 7.96l-1.37-1.37c-.4-.4-.92-.59-1.43-.59-.52 0-1.04.2-1.43.59L10.3 9.45l-7.72 7.72c-.78.78-.78 2.05 0 2.83L4 21.41c.39.39.9.59 1.41.59.51 0 1.02-.2 1.41-.59l7.78-7.78 2.81-2.81c.8-.78.8-2.07 0-2.86zM5.41 20L4 18.59l7.72-7.72 1.47 1.35L5.41 20z\"/>\n",
              "  </svg>\n",
              "      </button>\n",
              "      \n",
              "  <style>\n",
              "    .colab-df-container {\n",
              "      display:flex;\n",
              "      flex-wrap:wrap;\n",
              "      gap: 12px;\n",
              "    }\n",
              "\n",
              "    .colab-df-convert {\n",
              "      background-color: #E8F0FE;\n",
              "      border: none;\n",
              "      border-radius: 50%;\n",
              "      cursor: pointer;\n",
              "      display: none;\n",
              "      fill: #1967D2;\n",
              "      height: 32px;\n",
              "      padding: 0 0 0 0;\n",
              "      width: 32px;\n",
              "    }\n",
              "\n",
              "    .colab-df-convert:hover {\n",
              "      background-color: #E2EBFA;\n",
              "      box-shadow: 0px 1px 2px rgba(60, 64, 67, 0.3), 0px 1px 3px 1px rgba(60, 64, 67, 0.15);\n",
              "      fill: #174EA6;\n",
              "    }\n",
              "\n",
              "    [theme=dark] .colab-df-convert {\n",
              "      background-color: #3B4455;\n",
              "      fill: #D2E3FC;\n",
              "    }\n",
              "\n",
              "    [theme=dark] .colab-df-convert:hover {\n",
              "      background-color: #434B5C;\n",
              "      box-shadow: 0px 1px 3px 1px rgba(0, 0, 0, 0.15);\n",
              "      filter: drop-shadow(0px 1px 2px rgba(0, 0, 0, 0.3));\n",
              "      fill: #FFFFFF;\n",
              "    }\n",
              "  </style>\n",
              "\n",
              "      <script>\n",
              "        const buttonEl =\n",
              "          document.querySelector('#df-2b9f1609-1c8c-4f9c-8689-c700c3078d70 button.colab-df-convert');\n",
              "        buttonEl.style.display =\n",
              "          google.colab.kernel.accessAllowed ? 'block' : 'none';\n",
              "\n",
              "        async function convertToInteractive(key) {\n",
              "          const element = document.querySelector('#df-2b9f1609-1c8c-4f9c-8689-c700c3078d70');\n",
              "          const dataTable =\n",
              "            await google.colab.kernel.invokeFunction('convertToInteractive',\n",
              "                                                     [key], {});\n",
              "          if (!dataTable) return;\n",
              "\n",
              "          const docLinkHtml = 'Like what you see? Visit the ' +\n",
              "            '<a target=\"_blank\" href=https://colab.research.google.com/notebooks/data_table.ipynb>data table notebook</a>'\n",
              "            + ' to learn more about interactive tables.';\n",
              "          element.innerHTML = '';\n",
              "          dataTable['output_type'] = 'display_data';\n",
              "          await google.colab.output.renderOutput(dataTable, element);\n",
              "          const docLink = document.createElement('div');\n",
              "          docLink.innerHTML = docLinkHtml;\n",
              "          element.appendChild(docLink);\n",
              "        }\n",
              "      </script>\n",
              "    </div>\n",
              "  </div>\n",
              "  "
            ]
          },
          "metadata": {},
          "execution_count": 20
        }
      ]
    },
    {
      "cell_type": "code",
      "source": [
        "train.info()"
      ],
      "metadata": {
        "colab": {
          "base_uri": "https://localhost:8080/"
        },
        "id": "iyKMGneFRSMT",
        "outputId": "3af70915-c51d-497b-b22c-d191b6858599"
      },
      "execution_count": null,
      "outputs": [
        {
          "output_type": "stream",
          "name": "stdout",
          "text": [
            "<class 'pandas.core.frame.DataFrame'>\n",
            "RangeIndex: 1764 entries, 0 to 1763\n",
            "Data columns (total 10 columns):\n",
            " #   Column                           Non-Null Count  Dtype  \n",
            "---  ------                           --------------  -----  \n",
            " 0   Status                           1764 non-null   bool   \n",
            " 1   Life expectancy                  1764 non-null   float64\n",
            " 2   Adult Mortality                  1764 non-null   float64\n",
            " 3   BMI                              1764 non-null   float64\n",
            " 4   HIV/AIDS                         1764 non-null   float64\n",
            " 5   Diphtheria                       1764 non-null   float64\n",
            " 6   Polio                            1764 non-null   float64\n",
            " 7   GDP                              1764 non-null   float64\n",
            " 8   Income composition of resources  1764 non-null   float64\n",
            " 9   Schooling                        1764 non-null   float64\n",
            "dtypes: bool(1), float64(9)\n",
            "memory usage: 125.9 KB\n"
          ]
        }
      ]
    },
    {
      "cell_type": "code",
      "source": [
        "test['Status'] = test['Status'].map({'Developed':True,'Developing':False})\n",
        "test.head()"
      ],
      "metadata": {
        "colab": {
          "base_uri": "https://localhost:8080/",
          "height": 206
        },
        "id": "LFNQ3ydGpBrD",
        "outputId": "06a83206-32d3-4948-f8f3-fe97fa106981"
      },
      "execution_count": null,
      "outputs": [
        {
          "output_type": "execute_result",
          "data": {
            "text/plain": [
              "   Status  Life expectancy  Adult Mortality   BMI  HIV/AIDS  Diphtheria  \\\n",
              "0   False             75.2             91.0  29.0       0.1        99.0   \n",
              "1   False             59.8             37.0  28.7      10.1        45.0   \n",
              "2   False             75.6            121.0   6.0       0.1        95.0   \n",
              "3    True             88.0             73.0  55.7       0.1        89.0   \n",
              "4    True             74.3            139.0  57.7       0.1        89.0   \n",
              "\n",
              "   Polio           GDP  Income composition of resources  Schooling  \n",
              "0   99.0   5633.796160                            0.700       12.8  \n",
              "1   44.0   3976.148870                            0.633       12.3  \n",
              "2   95.0   5237.255334                            0.775       14.4  \n",
              "3   89.0  51126.741390                            0.880       15.7  \n",
              "4   89.0     92.277825                            0.798       15.7  "
            ],
            "text/html": [
              "\n",
              "  <div id=\"df-77af60bb-bb1e-422d-9971-c9fbffead53f\">\n",
              "    <div class=\"colab-df-container\">\n",
              "      <div>\n",
              "<style scoped>\n",
              "    .dataframe tbody tr th:only-of-type {\n",
              "        vertical-align: middle;\n",
              "    }\n",
              "\n",
              "    .dataframe tbody tr th {\n",
              "        vertical-align: top;\n",
              "    }\n",
              "\n",
              "    .dataframe thead th {\n",
              "        text-align: right;\n",
              "    }\n",
              "</style>\n",
              "<table border=\"1\" class=\"dataframe\">\n",
              "  <thead>\n",
              "    <tr style=\"text-align: right;\">\n",
              "      <th></th>\n",
              "      <th>Status</th>\n",
              "      <th>Life expectancy</th>\n",
              "      <th>Adult Mortality</th>\n",
              "      <th>BMI</th>\n",
              "      <th>HIV/AIDS</th>\n",
              "      <th>Diphtheria</th>\n",
              "      <th>Polio</th>\n",
              "      <th>GDP</th>\n",
              "      <th>Income composition of resources</th>\n",
              "      <th>Schooling</th>\n",
              "    </tr>\n",
              "  </thead>\n",
              "  <tbody>\n",
              "    <tr>\n",
              "      <th>0</th>\n",
              "      <td>False</td>\n",
              "      <td>75.2</td>\n",
              "      <td>91.0</td>\n",
              "      <td>29.0</td>\n",
              "      <td>0.1</td>\n",
              "      <td>99.0</td>\n",
              "      <td>99.0</td>\n",
              "      <td>5633.796160</td>\n",
              "      <td>0.700</td>\n",
              "      <td>12.8</td>\n",
              "    </tr>\n",
              "    <tr>\n",
              "      <th>1</th>\n",
              "      <td>False</td>\n",
              "      <td>59.8</td>\n",
              "      <td>37.0</td>\n",
              "      <td>28.7</td>\n",
              "      <td>10.1</td>\n",
              "      <td>45.0</td>\n",
              "      <td>44.0</td>\n",
              "      <td>3976.148870</td>\n",
              "      <td>0.633</td>\n",
              "      <td>12.3</td>\n",
              "    </tr>\n",
              "    <tr>\n",
              "      <th>2</th>\n",
              "      <td>False</td>\n",
              "      <td>75.6</td>\n",
              "      <td>121.0</td>\n",
              "      <td>6.0</td>\n",
              "      <td>0.1</td>\n",
              "      <td>95.0</td>\n",
              "      <td>95.0</td>\n",
              "      <td>5237.255334</td>\n",
              "      <td>0.775</td>\n",
              "      <td>14.4</td>\n",
              "    </tr>\n",
              "    <tr>\n",
              "      <th>3</th>\n",
              "      <td>True</td>\n",
              "      <td>88.0</td>\n",
              "      <td>73.0</td>\n",
              "      <td>55.7</td>\n",
              "      <td>0.1</td>\n",
              "      <td>89.0</td>\n",
              "      <td>89.0</td>\n",
              "      <td>51126.741390</td>\n",
              "      <td>0.880</td>\n",
              "      <td>15.7</td>\n",
              "    </tr>\n",
              "    <tr>\n",
              "      <th>4</th>\n",
              "      <td>True</td>\n",
              "      <td>74.3</td>\n",
              "      <td>139.0</td>\n",
              "      <td>57.7</td>\n",
              "      <td>0.1</td>\n",
              "      <td>89.0</td>\n",
              "      <td>89.0</td>\n",
              "      <td>92.277825</td>\n",
              "      <td>0.798</td>\n",
              "      <td>15.7</td>\n",
              "    </tr>\n",
              "  </tbody>\n",
              "</table>\n",
              "</div>\n",
              "      <button class=\"colab-df-convert\" onclick=\"convertToInteractive('df-77af60bb-bb1e-422d-9971-c9fbffead53f')\"\n",
              "              title=\"Convert this dataframe to an interactive table.\"\n",
              "              style=\"display:none;\">\n",
              "        \n",
              "  <svg xmlns=\"http://www.w3.org/2000/svg\" height=\"24px\"viewBox=\"0 0 24 24\"\n",
              "       width=\"24px\">\n",
              "    <path d=\"M0 0h24v24H0V0z\" fill=\"none\"/>\n",
              "    <path d=\"M18.56 5.44l.94 2.06.94-2.06 2.06-.94-2.06-.94-.94-2.06-.94 2.06-2.06.94zm-11 1L8.5 8.5l.94-2.06 2.06-.94-2.06-.94L8.5 2.5l-.94 2.06-2.06.94zm10 10l.94 2.06.94-2.06 2.06-.94-2.06-.94-.94-2.06-.94 2.06-2.06.94z\"/><path d=\"M17.41 7.96l-1.37-1.37c-.4-.4-.92-.59-1.43-.59-.52 0-1.04.2-1.43.59L10.3 9.45l-7.72 7.72c-.78.78-.78 2.05 0 2.83L4 21.41c.39.39.9.59 1.41.59.51 0 1.02-.2 1.41-.59l7.78-7.78 2.81-2.81c.8-.78.8-2.07 0-2.86zM5.41 20L4 18.59l7.72-7.72 1.47 1.35L5.41 20z\"/>\n",
              "  </svg>\n",
              "      </button>\n",
              "      \n",
              "  <style>\n",
              "    .colab-df-container {\n",
              "      display:flex;\n",
              "      flex-wrap:wrap;\n",
              "      gap: 12px;\n",
              "    }\n",
              "\n",
              "    .colab-df-convert {\n",
              "      background-color: #E8F0FE;\n",
              "      border: none;\n",
              "      border-radius: 50%;\n",
              "      cursor: pointer;\n",
              "      display: none;\n",
              "      fill: #1967D2;\n",
              "      height: 32px;\n",
              "      padding: 0 0 0 0;\n",
              "      width: 32px;\n",
              "    }\n",
              "\n",
              "    .colab-df-convert:hover {\n",
              "      background-color: #E2EBFA;\n",
              "      box-shadow: 0px 1px 2px rgba(60, 64, 67, 0.3), 0px 1px 3px 1px rgba(60, 64, 67, 0.15);\n",
              "      fill: #174EA6;\n",
              "    }\n",
              "\n",
              "    [theme=dark] .colab-df-convert {\n",
              "      background-color: #3B4455;\n",
              "      fill: #D2E3FC;\n",
              "    }\n",
              "\n",
              "    [theme=dark] .colab-df-convert:hover {\n",
              "      background-color: #434B5C;\n",
              "      box-shadow: 0px 1px 3px 1px rgba(0, 0, 0, 0.15);\n",
              "      filter: drop-shadow(0px 1px 2px rgba(0, 0, 0, 0.3));\n",
              "      fill: #FFFFFF;\n",
              "    }\n",
              "  </style>\n",
              "\n",
              "      <script>\n",
              "        const buttonEl =\n",
              "          document.querySelector('#df-77af60bb-bb1e-422d-9971-c9fbffead53f button.colab-df-convert');\n",
              "        buttonEl.style.display =\n",
              "          google.colab.kernel.accessAllowed ? 'block' : 'none';\n",
              "\n",
              "        async function convertToInteractive(key) {\n",
              "          const element = document.querySelector('#df-77af60bb-bb1e-422d-9971-c9fbffead53f');\n",
              "          const dataTable =\n",
              "            await google.colab.kernel.invokeFunction('convertToInteractive',\n",
              "                                                     [key], {});\n",
              "          if (!dataTable) return;\n",
              "\n",
              "          const docLinkHtml = 'Like what you see? Visit the ' +\n",
              "            '<a target=\"_blank\" href=https://colab.research.google.com/notebooks/data_table.ipynb>data table notebook</a>'\n",
              "            + ' to learn more about interactive tables.';\n",
              "          element.innerHTML = '';\n",
              "          dataTable['output_type'] = 'display_data';\n",
              "          await google.colab.output.renderOutput(dataTable, element);\n",
              "          const docLink = document.createElement('div');\n",
              "          docLink.innerHTML = docLinkHtml;\n",
              "          element.appendChild(docLink);\n",
              "        }\n",
              "      </script>\n",
              "    </div>\n",
              "  </div>\n",
              "  "
            ]
          },
          "metadata": {},
          "execution_count": 22
        }
      ]
    },
    {
      "cell_type": "code",
      "source": [
        "X_train = train.drop('Life expectancy',axis=1).values\n",
        "y_train = train['Life expectancy'].values"
      ],
      "metadata": {
        "id": "fb6iOkDxpBuC"
      },
      "execution_count": null,
      "outputs": []
    },
    {
      "cell_type": "code",
      "source": [
        "X_test = test.drop('Life expectancy',axis=1).values\n",
        "y_test = test['Life expectancy'].values"
      ],
      "metadata": {
        "id": "Nf12OqKiWN7E"
      },
      "execution_count": null,
      "outputs": []
    },
    {
      "cell_type": "code",
      "source": [
        "from sklearn.linear_model import LinearRegression\n",
        "reg_all = LinearRegression()\n",
        "reg_all.fit(X_train,y_train)"
      ],
      "metadata": {
        "colab": {
          "base_uri": "https://localhost:8080/"
        },
        "id": "wlv6Bl2WpBxc",
        "outputId": "ff547948-90d8-4792-bf97-5664891e4beb"
      },
      "execution_count": null,
      "outputs": [
        {
          "output_type": "execute_result",
          "data": {
            "text/plain": [
              "LinearRegression()"
            ]
          },
          "metadata": {},
          "execution_count": 25
        }
      ]
    },
    {
      "cell_type": "code",
      "source": [
        "y_pred = reg_all.predict(X_test)"
      ],
      "metadata": {
        "id": "515foAoIpB0H"
      },
      "execution_count": null,
      "outputs": []
    },
    {
      "cell_type": "markdown",
      "source": [
        "1. What is mean_squared_error for the test dataset?"
      ],
      "metadata": {
        "id": "8rxlWqa3YD1S"
      }
    },
    {
      "cell_type": "code",
      "source": [
        "from sklearn.metrics import mean_squared_error\n",
        "mse = mean_squared_error(y_test,y_pred)\n",
        "print('Mean squared error of test data set is : ',mse)"
      ],
      "metadata": {
        "colab": {
          "base_uri": "https://localhost:8080/"
        },
        "id": "RyAVFqGYpB2c",
        "outputId": "b130be08-54ce-4263-ac19-f640fb971abe"
      },
      "execution_count": null,
      "outputs": [
        {
          "output_type": "stream",
          "name": "stdout",
          "text": [
            "Mean squared error of test data set is :  15.431600114277657\n"
          ]
        }
      ]
    },
    {
      "cell_type": "markdown",
      "source": [
        "2. What is r2_score for the test dataset?"
      ],
      "metadata": {
        "id": "udq31djQYONn"
      }
    },
    {
      "cell_type": "code",
      "source": [
        "from sklearn.metrics import r2_score\n",
        "score=r2_score(y_test,y_pred)\n",
        "print('r2_score of test data set is : ',score)"
      ],
      "metadata": {
        "colab": {
          "base_uri": "https://localhost:8080/"
        },
        "id": "uOI7ETLTpB5L",
        "outputId": "340916be-7ba1-4adb-ae89-bd106c19e745"
      },
      "execution_count": null,
      "outputs": [
        {
          "output_type": "stream",
          "name": "stdout",
          "text": [
            "r2_score of test data set is :  0.8379338058021963\n"
          ]
        }
      ]
    },
    {
      "cell_type": "markdown",
      "source": [
        "3. What is the mean absolute error for the test dataset?"
      ],
      "metadata": {
        "id": "93h_GjFwZN1o"
      }
    },
    {
      "cell_type": "code",
      "source": [
        "from sklearn.metrics import mean_absolute_error\n",
        "mae = mean_absolute_error(y_test,y_pred)\n",
        "print('Mean absolute error of test data set is : ',mae)"
      ],
      "metadata": {
        "colab": {
          "base_uri": "https://localhost:8080/"
        },
        "id": "jwduaBNKpB8n",
        "outputId": "3ab296ec-5165-4356-f082-fd7e31c1909a"
      },
      "execution_count": null,
      "outputs": [
        {
          "output_type": "stream",
          "name": "stdout",
          "text": [
            "Mean absolute error of test data set is :  3.002392071828031\n"
          ]
        }
      ]
    },
    {
      "cell_type": "markdown",
      "source": [
        "4. What is the value of cost function on the train and test dataset for the model previously trained?"
      ],
      "metadata": {
        "id": "U5Ne8qBtbg5Q"
      }
    },
    {
      "cell_type": "code",
      "source": [
        "from math import sqrt\n",
        "rmse = sqrt(mse)\n",
        "print('Root mean squared error of test data set is : ',rmse)"
      ],
      "metadata": {
        "colab": {
          "base_uri": "https://localhost:8080/"
        },
        "id": "N6dkIS3EoFhR",
        "outputId": "3176beed-a191-48c7-f228-f4cfa0f5837f"
      },
      "execution_count": null,
      "outputs": [
        {
          "output_type": "stream",
          "name": "stdout",
          "text": [
            "Root mean squared error of test data set is :  3.9283075381489234\n"
          ]
        }
      ]
    },
    {
      "cell_type": "markdown",
      "source": [
        "5. What is mean_squared_error for the test dataset after we take top 5 features based on correlation?"
      ],
      "metadata": {
        "id": "FJGk1HMODH_M"
      }
    },
    {
      "cell_type": "code",
      "source": [
        "train_top_5 = train[['Schooling','Income composition of resources','BMI','GDP','Diphtheria','Life expectancy']]"
      ],
      "metadata": {
        "id": "jxRdSQSgDKaY"
      },
      "execution_count": null,
      "outputs": []
    },
    {
      "cell_type": "code",
      "source": [
        "train_top_5.head()"
      ],
      "metadata": {
        "colab": {
          "base_uri": "https://localhost:8080/",
          "height": 206
        },
        "id": "heuDU1KYKdY-",
        "outputId": "49d2b0e2-e14f-4995-ff05-0fcf7ce45717"
      },
      "execution_count": null,
      "outputs": [
        {
          "output_type": "execute_result",
          "data": {
            "text/plain": [
              "   Schooling  Income composition of resources   BMI          GDP  Diphtheria  \\\n",
              "0        5.0                            0.405  16.5   582.775532        96.0   \n",
              "1       15.5                            0.776  56.6  6351.812500        99.0   \n",
              "2        9.6                            0.418  16.8   341.955625        85.0   \n",
              "3       16.0                            0.938  57.4  8989.842400        97.0   \n",
              "4        9.5                            0.408  27.9   414.796232         7.0   \n",
              "\n",
              "   Life expectancy  \n",
              "0             62.9  \n",
              "1             71.0  \n",
              "2             43.8  \n",
              "3             83.4  \n",
              "4             45.4  "
            ],
            "text/html": [
              "\n",
              "  <div id=\"df-782c8525-f2c7-4517-98c8-3c96a97c52af\">\n",
              "    <div class=\"colab-df-container\">\n",
              "      <div>\n",
              "<style scoped>\n",
              "    .dataframe tbody tr th:only-of-type {\n",
              "        vertical-align: middle;\n",
              "    }\n",
              "\n",
              "    .dataframe tbody tr th {\n",
              "        vertical-align: top;\n",
              "    }\n",
              "\n",
              "    .dataframe thead th {\n",
              "        text-align: right;\n",
              "    }\n",
              "</style>\n",
              "<table border=\"1\" class=\"dataframe\">\n",
              "  <thead>\n",
              "    <tr style=\"text-align: right;\">\n",
              "      <th></th>\n",
              "      <th>Schooling</th>\n",
              "      <th>Income composition of resources</th>\n",
              "      <th>BMI</th>\n",
              "      <th>GDP</th>\n",
              "      <th>Diphtheria</th>\n",
              "      <th>Life expectancy</th>\n",
              "    </tr>\n",
              "  </thead>\n",
              "  <tbody>\n",
              "    <tr>\n",
              "      <th>0</th>\n",
              "      <td>5.0</td>\n",
              "      <td>0.405</td>\n",
              "      <td>16.5</td>\n",
              "      <td>582.775532</td>\n",
              "      <td>96.0</td>\n",
              "      <td>62.9</td>\n",
              "    </tr>\n",
              "    <tr>\n",
              "      <th>1</th>\n",
              "      <td>15.5</td>\n",
              "      <td>0.776</td>\n",
              "      <td>56.6</td>\n",
              "      <td>6351.812500</td>\n",
              "      <td>99.0</td>\n",
              "      <td>71.0</td>\n",
              "    </tr>\n",
              "    <tr>\n",
              "      <th>2</th>\n",
              "      <td>9.6</td>\n",
              "      <td>0.418</td>\n",
              "      <td>16.8</td>\n",
              "      <td>341.955625</td>\n",
              "      <td>85.0</td>\n",
              "      <td>43.8</td>\n",
              "    </tr>\n",
              "    <tr>\n",
              "      <th>3</th>\n",
              "      <td>16.0</td>\n",
              "      <td>0.938</td>\n",
              "      <td>57.4</td>\n",
              "      <td>8989.842400</td>\n",
              "      <td>97.0</td>\n",
              "      <td>83.4</td>\n",
              "    </tr>\n",
              "    <tr>\n",
              "      <th>4</th>\n",
              "      <td>9.5</td>\n",
              "      <td>0.408</td>\n",
              "      <td>27.9</td>\n",
              "      <td>414.796232</td>\n",
              "      <td>7.0</td>\n",
              "      <td>45.4</td>\n",
              "    </tr>\n",
              "  </tbody>\n",
              "</table>\n",
              "</div>\n",
              "      <button class=\"colab-df-convert\" onclick=\"convertToInteractive('df-782c8525-f2c7-4517-98c8-3c96a97c52af')\"\n",
              "              title=\"Convert this dataframe to an interactive table.\"\n",
              "              style=\"display:none;\">\n",
              "        \n",
              "  <svg xmlns=\"http://www.w3.org/2000/svg\" height=\"24px\"viewBox=\"0 0 24 24\"\n",
              "       width=\"24px\">\n",
              "    <path d=\"M0 0h24v24H0V0z\" fill=\"none\"/>\n",
              "    <path d=\"M18.56 5.44l.94 2.06.94-2.06 2.06-.94-2.06-.94-.94-2.06-.94 2.06-2.06.94zm-11 1L8.5 8.5l.94-2.06 2.06-.94-2.06-.94L8.5 2.5l-.94 2.06-2.06.94zm10 10l.94 2.06.94-2.06 2.06-.94-2.06-.94-.94-2.06-.94 2.06-2.06.94z\"/><path d=\"M17.41 7.96l-1.37-1.37c-.4-.4-.92-.59-1.43-.59-.52 0-1.04.2-1.43.59L10.3 9.45l-7.72 7.72c-.78.78-.78 2.05 0 2.83L4 21.41c.39.39.9.59 1.41.59.51 0 1.02-.2 1.41-.59l7.78-7.78 2.81-2.81c.8-.78.8-2.07 0-2.86zM5.41 20L4 18.59l7.72-7.72 1.47 1.35L5.41 20z\"/>\n",
              "  </svg>\n",
              "      </button>\n",
              "      \n",
              "  <style>\n",
              "    .colab-df-container {\n",
              "      display:flex;\n",
              "      flex-wrap:wrap;\n",
              "      gap: 12px;\n",
              "    }\n",
              "\n",
              "    .colab-df-convert {\n",
              "      background-color: #E8F0FE;\n",
              "      border: none;\n",
              "      border-radius: 50%;\n",
              "      cursor: pointer;\n",
              "      display: none;\n",
              "      fill: #1967D2;\n",
              "      height: 32px;\n",
              "      padding: 0 0 0 0;\n",
              "      width: 32px;\n",
              "    }\n",
              "\n",
              "    .colab-df-convert:hover {\n",
              "      background-color: #E2EBFA;\n",
              "      box-shadow: 0px 1px 2px rgba(60, 64, 67, 0.3), 0px 1px 3px 1px rgba(60, 64, 67, 0.15);\n",
              "      fill: #174EA6;\n",
              "    }\n",
              "\n",
              "    [theme=dark] .colab-df-convert {\n",
              "      background-color: #3B4455;\n",
              "      fill: #D2E3FC;\n",
              "    }\n",
              "\n",
              "    [theme=dark] .colab-df-convert:hover {\n",
              "      background-color: #434B5C;\n",
              "      box-shadow: 0px 1px 3px 1px rgba(0, 0, 0, 0.15);\n",
              "      filter: drop-shadow(0px 1px 2px rgba(0, 0, 0, 0.3));\n",
              "      fill: #FFFFFF;\n",
              "    }\n",
              "  </style>\n",
              "\n",
              "      <script>\n",
              "        const buttonEl =\n",
              "          document.querySelector('#df-782c8525-f2c7-4517-98c8-3c96a97c52af button.colab-df-convert');\n",
              "        buttonEl.style.display =\n",
              "          google.colab.kernel.accessAllowed ? 'block' : 'none';\n",
              "\n",
              "        async function convertToInteractive(key) {\n",
              "          const element = document.querySelector('#df-782c8525-f2c7-4517-98c8-3c96a97c52af');\n",
              "          const dataTable =\n",
              "            await google.colab.kernel.invokeFunction('convertToInteractive',\n",
              "                                                     [key], {});\n",
              "          if (!dataTable) return;\n",
              "\n",
              "          const docLinkHtml = 'Like what you see? Visit the ' +\n",
              "            '<a target=\"_blank\" href=https://colab.research.google.com/notebooks/data_table.ipynb>data table notebook</a>'\n",
              "            + ' to learn more about interactive tables.';\n",
              "          element.innerHTML = '';\n",
              "          dataTable['output_type'] = 'display_data';\n",
              "          await google.colab.output.renderOutput(dataTable, element);\n",
              "          const docLink = document.createElement('div');\n",
              "          docLink.innerHTML = docLinkHtml;\n",
              "          element.appendChild(docLink);\n",
              "        }\n",
              "      </script>\n",
              "    </div>\n",
              "  </div>\n",
              "  "
            ]
          },
          "metadata": {},
          "execution_count": 32
        }
      ]
    },
    {
      "cell_type": "code",
      "source": [
        "test_top_5 = test[['Schooling','Income composition of resources','BMI','GDP','Diphtheria','Life expectancy']]"
      ],
      "metadata": {
        "id": "03oS5wNQKdbt"
      },
      "execution_count": null,
      "outputs": []
    },
    {
      "cell_type": "code",
      "source": [
        "test_top_5.head()"
      ],
      "metadata": {
        "colab": {
          "base_uri": "https://localhost:8080/",
          "height": 206
        },
        "id": "A4op6KS5KdeZ",
        "outputId": "d3dae64b-5436-4f48-fdc3-a5827de8dfd7"
      },
      "execution_count": null,
      "outputs": [
        {
          "output_type": "execute_result",
          "data": {
            "text/plain": [
              "   Schooling  Income composition of resources   BMI           GDP  Diphtheria  \\\n",
              "0       12.8                            0.700  29.0   5633.796160        99.0   \n",
              "1       12.3                            0.633  28.7   3976.148870        45.0   \n",
              "2       14.4                            0.775   6.0   5237.255334        95.0   \n",
              "3       15.7                            0.880  55.7  51126.741390        89.0   \n",
              "4       15.7                            0.798  57.7     92.277825        89.0   \n",
              "\n",
              "   Life expectancy  \n",
              "0             75.2  \n",
              "1             59.8  \n",
              "2             75.6  \n",
              "3             88.0  \n",
              "4             74.3  "
            ],
            "text/html": [
              "\n",
              "  <div id=\"df-417fc322-dbd6-4374-84a3-c9726f7e4bb0\">\n",
              "    <div class=\"colab-df-container\">\n",
              "      <div>\n",
              "<style scoped>\n",
              "    .dataframe tbody tr th:only-of-type {\n",
              "        vertical-align: middle;\n",
              "    }\n",
              "\n",
              "    .dataframe tbody tr th {\n",
              "        vertical-align: top;\n",
              "    }\n",
              "\n",
              "    .dataframe thead th {\n",
              "        text-align: right;\n",
              "    }\n",
              "</style>\n",
              "<table border=\"1\" class=\"dataframe\">\n",
              "  <thead>\n",
              "    <tr style=\"text-align: right;\">\n",
              "      <th></th>\n",
              "      <th>Schooling</th>\n",
              "      <th>Income composition of resources</th>\n",
              "      <th>BMI</th>\n",
              "      <th>GDP</th>\n",
              "      <th>Diphtheria</th>\n",
              "      <th>Life expectancy</th>\n",
              "    </tr>\n",
              "  </thead>\n",
              "  <tbody>\n",
              "    <tr>\n",
              "      <th>0</th>\n",
              "      <td>12.8</td>\n",
              "      <td>0.700</td>\n",
              "      <td>29.0</td>\n",
              "      <td>5633.796160</td>\n",
              "      <td>99.0</td>\n",
              "      <td>75.2</td>\n",
              "    </tr>\n",
              "    <tr>\n",
              "      <th>1</th>\n",
              "      <td>12.3</td>\n",
              "      <td>0.633</td>\n",
              "      <td>28.7</td>\n",
              "      <td>3976.148870</td>\n",
              "      <td>45.0</td>\n",
              "      <td>59.8</td>\n",
              "    </tr>\n",
              "    <tr>\n",
              "      <th>2</th>\n",
              "      <td>14.4</td>\n",
              "      <td>0.775</td>\n",
              "      <td>6.0</td>\n",
              "      <td>5237.255334</td>\n",
              "      <td>95.0</td>\n",
              "      <td>75.6</td>\n",
              "    </tr>\n",
              "    <tr>\n",
              "      <th>3</th>\n",
              "      <td>15.7</td>\n",
              "      <td>0.880</td>\n",
              "      <td>55.7</td>\n",
              "      <td>51126.741390</td>\n",
              "      <td>89.0</td>\n",
              "      <td>88.0</td>\n",
              "    </tr>\n",
              "    <tr>\n",
              "      <th>4</th>\n",
              "      <td>15.7</td>\n",
              "      <td>0.798</td>\n",
              "      <td>57.7</td>\n",
              "      <td>92.277825</td>\n",
              "      <td>89.0</td>\n",
              "      <td>74.3</td>\n",
              "    </tr>\n",
              "  </tbody>\n",
              "</table>\n",
              "</div>\n",
              "      <button class=\"colab-df-convert\" onclick=\"convertToInteractive('df-417fc322-dbd6-4374-84a3-c9726f7e4bb0')\"\n",
              "              title=\"Convert this dataframe to an interactive table.\"\n",
              "              style=\"display:none;\">\n",
              "        \n",
              "  <svg xmlns=\"http://www.w3.org/2000/svg\" height=\"24px\"viewBox=\"0 0 24 24\"\n",
              "       width=\"24px\">\n",
              "    <path d=\"M0 0h24v24H0V0z\" fill=\"none\"/>\n",
              "    <path d=\"M18.56 5.44l.94 2.06.94-2.06 2.06-.94-2.06-.94-.94-2.06-.94 2.06-2.06.94zm-11 1L8.5 8.5l.94-2.06 2.06-.94-2.06-.94L8.5 2.5l-.94 2.06-2.06.94zm10 10l.94 2.06.94-2.06 2.06-.94-2.06-.94-.94-2.06-.94 2.06-2.06.94z\"/><path d=\"M17.41 7.96l-1.37-1.37c-.4-.4-.92-.59-1.43-.59-.52 0-1.04.2-1.43.59L10.3 9.45l-7.72 7.72c-.78.78-.78 2.05 0 2.83L4 21.41c.39.39.9.59 1.41.59.51 0 1.02-.2 1.41-.59l7.78-7.78 2.81-2.81c.8-.78.8-2.07 0-2.86zM5.41 20L4 18.59l7.72-7.72 1.47 1.35L5.41 20z\"/>\n",
              "  </svg>\n",
              "      </button>\n",
              "      \n",
              "  <style>\n",
              "    .colab-df-container {\n",
              "      display:flex;\n",
              "      flex-wrap:wrap;\n",
              "      gap: 12px;\n",
              "    }\n",
              "\n",
              "    .colab-df-convert {\n",
              "      background-color: #E8F0FE;\n",
              "      border: none;\n",
              "      border-radius: 50%;\n",
              "      cursor: pointer;\n",
              "      display: none;\n",
              "      fill: #1967D2;\n",
              "      height: 32px;\n",
              "      padding: 0 0 0 0;\n",
              "      width: 32px;\n",
              "    }\n",
              "\n",
              "    .colab-df-convert:hover {\n",
              "      background-color: #E2EBFA;\n",
              "      box-shadow: 0px 1px 2px rgba(60, 64, 67, 0.3), 0px 1px 3px 1px rgba(60, 64, 67, 0.15);\n",
              "      fill: #174EA6;\n",
              "    }\n",
              "\n",
              "    [theme=dark] .colab-df-convert {\n",
              "      background-color: #3B4455;\n",
              "      fill: #D2E3FC;\n",
              "    }\n",
              "\n",
              "    [theme=dark] .colab-df-convert:hover {\n",
              "      background-color: #434B5C;\n",
              "      box-shadow: 0px 1px 3px 1px rgba(0, 0, 0, 0.15);\n",
              "      filter: drop-shadow(0px 1px 2px rgba(0, 0, 0, 0.3));\n",
              "      fill: #FFFFFF;\n",
              "    }\n",
              "  </style>\n",
              "\n",
              "      <script>\n",
              "        const buttonEl =\n",
              "          document.querySelector('#df-417fc322-dbd6-4374-84a3-c9726f7e4bb0 button.colab-df-convert');\n",
              "        buttonEl.style.display =\n",
              "          google.colab.kernel.accessAllowed ? 'block' : 'none';\n",
              "\n",
              "        async function convertToInteractive(key) {\n",
              "          const element = document.querySelector('#df-417fc322-dbd6-4374-84a3-c9726f7e4bb0');\n",
              "          const dataTable =\n",
              "            await google.colab.kernel.invokeFunction('convertToInteractive',\n",
              "                                                     [key], {});\n",
              "          if (!dataTable) return;\n",
              "\n",
              "          const docLinkHtml = 'Like what you see? Visit the ' +\n",
              "            '<a target=\"_blank\" href=https://colab.research.google.com/notebooks/data_table.ipynb>data table notebook</a>'\n",
              "            + ' to learn more about interactive tables.';\n",
              "          element.innerHTML = '';\n",
              "          dataTable['output_type'] = 'display_data';\n",
              "          await google.colab.output.renderOutput(dataTable, element);\n",
              "          const docLink = document.createElement('div');\n",
              "          docLink.innerHTML = docLinkHtml;\n",
              "          element.appendChild(docLink);\n",
              "        }\n",
              "      </script>\n",
              "    </div>\n",
              "  </div>\n",
              "  "
            ]
          },
          "metadata": {},
          "execution_count": 34
        }
      ]
    },
    {
      "cell_type": "code",
      "source": [
        "X_train_top_5 = train_top_5.drop('Life expectancy',axis=1).values\n",
        "y_train_top_5 = train_top_5['Life expectancy'].values\n",
        "X_test_top_5 = test_top_5.drop('Life expectancy',axis=1).values\n",
        "y_test_top_5 = test_top_5['Life expectancy'].values"
      ],
      "metadata": {
        "id": "1jdef-zwSWla"
      },
      "execution_count": null,
      "outputs": []
    },
    {
      "cell_type": "code",
      "source": [
        "reg_top_5 = LinearRegression()\n",
        "reg_top_5.fit(X_train_top_5,y_train_top_5)\n",
        "y_pred_top_5 = reg_top_5.predict(X_test_top_5)"
      ],
      "metadata": {
        "id": "aB3Ygg69KdiA"
      },
      "execution_count": null,
      "outputs": []
    },
    {
      "cell_type": "markdown",
      "source": [
        "5. What is mean_squared_error for the test dataset after we take top 5 features based on correlation?\n"
      ],
      "metadata": {
        "id": "dF8mVgpPVpuv"
      }
    },
    {
      "cell_type": "code",
      "source": [
        "mse_top_5 = mean_squared_error(y_test_top_5,y_pred_top_5)\n",
        "print('Mean squared error of test data set for top 5 features is : ',mse_top_5)"
      ],
      "metadata": {
        "colab": {
          "base_uri": "https://localhost:8080/"
        },
        "id": "Ab6ddpS9Kdkj",
        "outputId": "7400e708-b427-4db7-d8fb-1001e39f9ea5"
      },
      "execution_count": null,
      "outputs": [
        {
          "output_type": "stream",
          "name": "stdout",
          "text": [
            "Mean squared error of test data set for top 5 features is :  30.274642130020275\n"
          ]
        }
      ]
    },
    {
      "cell_type": "markdown",
      "source": [
        "6. What is r2_score for the test dataset after we take the top 5 features based on correlation?\n"
      ],
      "metadata": {
        "id": "F_ZA254-Z9Zo"
      }
    },
    {
      "cell_type": "code",
      "source": [
        "score_top_5=r2_score(y_test_top_5,y_pred_top_5)\n",
        "print('r2_score of test data set for top 5 features is : ',score_top_5)"
      ],
      "metadata": {
        "colab": {
          "base_uri": "https://localhost:8080/"
        },
        "id": "pSMgFmCsKdmt",
        "outputId": "04d19c56-4b40-4803-9d9e-d042c9c1ba94"
      },
      "execution_count": null,
      "outputs": [
        {
          "output_type": "stream",
          "name": "stdout",
          "text": [
            "r2_score of test data set for top 5 features is :  0.6820487833809745\n"
          ]
        }
      ]
    },
    {
      "cell_type": "markdown",
      "source": [
        "What is the predicted Life expectancy for the following countries?\n",
        "\n",
        "a. Case 1\n",
        "\n",
        "i. Status=Developing\n",
        "\n",
        "ii. Adult Mortality = 730\n",
        "\n",
        "iii. BMI = 27\n",
        "\n",
        "iv. HIV/AIDS = 33\n",
        "\n",
        "v. Diphtheria=70\n",
        "\n",
        "vi. Polio =60\n",
        "\n",
        "vii. GDP=450\n",
        "\n",
        "viii. Income composition of resources = 0.35\n",
        "\n",
        "ix. Schooling=10"
      ],
      "metadata": {
        "id": "th2DIsaGzbwn"
      }
    },
    {
      "cell_type": "code",
      "source": [
        "X_test_case1 = np.array([[False,730.0,27.0,33.0,70.0,60.0,450.0,0.35,10.0]])"
      ],
      "metadata": {
        "id": "JPX7XvOUwsfg"
      },
      "execution_count": null,
      "outputs": []
    },
    {
      "cell_type": "code",
      "source": [
        "y_pred_case1 = reg_all.predict(X_test_case1)\n",
        "print('Predicted life expectancy of case 1 is: ',y_pred_case1)"
      ],
      "metadata": {
        "colab": {
          "base_uri": "https://localhost:8080/"
        },
        "id": "ECeQEupIwsh0",
        "outputId": "c0f53461-2e7b-4549-c41b-b259851a9542"
      },
      "execution_count": null,
      "outputs": [
        {
          "output_type": "stream",
          "name": "stdout",
          "text": [
            "Predicted life expectancy of case 1 is:  [38.60216459]\n"
          ]
        }
      ]
    },
    {
      "cell_type": "markdown",
      "source": [
        "b. Case 2\n",
        "\n",
        "i. Status=Developed\n",
        "\n",
        "ii. Adult Mortality = 100\n",
        "\n",
        "iii. BMI = 20\n",
        "\n",
        "iv. HIV/AIDS = 1\n",
        "\n",
        "v. Diphtheria=7\n",
        "\n",
        "vi. Polio =6\n",
        "\n",
        "vii. GDP=4500\n",
        "\n",
        "viii. Income composition of resources = 0.5\n",
        "\n",
        "ix. Schooling=12\n"
      ],
      "metadata": {
        "id": "eOaUbSE2zfLw"
      }
    },
    {
      "cell_type": "code",
      "source": [
        "X_test_case2 =  np.array([[True,100.0,20.0,1.0,7.0,6.0,4500.0,0.5,12]])\n",
        "y_pred_case2 = reg_all.predict(X_test_case2)\n",
        "print('Predicted life expectancy of case 2 is: ',y_pred_case2)"
      ],
      "metadata": {
        "colab": {
          "base_uri": "https://localhost:8080/"
        },
        "id": "WRJzp2WNwsky",
        "outputId": "cf8b09a9-a506-4b96-e7d8-d17e6086030a"
      },
      "execution_count": null,
      "outputs": [
        {
          "output_type": "stream",
          "name": "stdout",
          "text": [
            "Predicted life expectancy of case 2 is:  [65.30172575]\n"
          ]
        }
      ]
    },
    {
      "cell_type": "markdown",
      "source": [
        "# **Logistic regression**"
      ],
      "metadata": {
        "id": "_Ohlc25fzotv"
      }
    },
    {
      "cell_type": "code",
      "source": [
        "train_1 = train.copy()\n",
        "test_1 = test.copy()"
      ],
      "metadata": {
        "id": "ay7jb7ZrwsnL"
      },
      "execution_count": null,
      "outputs": []
    },
    {
      "cell_type": "code",
      "source": [
        "train_1['Life expectancy'] = np.where(train_1['Life expectancy']>=65, True,False)"
      ],
      "metadata": {
        "id": "1OksYnP5wstN"
      },
      "execution_count": null,
      "outputs": []
    },
    {
      "cell_type": "code",
      "source": [
        "test_1['Life expectancy'] = np.where(test_1['Life expectancy']>=65, True,False)"
      ],
      "metadata": {
        "id": "YnyzB72xwswk"
      },
      "execution_count": null,
      "outputs": []
    },
    {
      "cell_type": "code",
      "source": [
        "train_1.head()"
      ],
      "metadata": {
        "id": "QYY05pL7wsyK",
        "colab": {
          "base_uri": "https://localhost:8080/",
          "height": 206
        },
        "outputId": "4d08da8a-a8a1-4bf8-fee1-fb49aeae32a4"
      },
      "execution_count": null,
      "outputs": [
        {
          "output_type": "execute_result",
          "data": {
            "text/plain": [
              "   Status  Life expectancy  Adult Mortality   BMI  HIV/AIDS  Diphtheria  \\\n",
              "0   False            False            286.0  16.5       0.7        96.0   \n",
              "1    True             True             26.0  56.6       0.1        99.0   \n",
              "2   False            False            614.0  16.8      18.7        85.0   \n",
              "3    True             True             49.0  57.4       0.1        97.0   \n",
              "4   False            False              7.0  27.9      26.8         7.0   \n",
              "\n",
              "   Polio          GDP  Income composition of resources  Schooling  \n",
              "0   96.0   582.775532                            0.405        5.0  \n",
              "1   99.0  6351.812500                            0.776       15.5  \n",
              "2   85.0   341.955625                            0.418        9.6  \n",
              "3   97.0  8989.842400                            0.938       16.0  \n",
              "4   71.0   414.796232                            0.408        9.5  "
            ],
            "text/html": [
              "\n",
              "  <div id=\"df-fe9d2557-6e27-4d00-8967-53f34e075afc\">\n",
              "    <div class=\"colab-df-container\">\n",
              "      <div>\n",
              "<style scoped>\n",
              "    .dataframe tbody tr th:only-of-type {\n",
              "        vertical-align: middle;\n",
              "    }\n",
              "\n",
              "    .dataframe tbody tr th {\n",
              "        vertical-align: top;\n",
              "    }\n",
              "\n",
              "    .dataframe thead th {\n",
              "        text-align: right;\n",
              "    }\n",
              "</style>\n",
              "<table border=\"1\" class=\"dataframe\">\n",
              "  <thead>\n",
              "    <tr style=\"text-align: right;\">\n",
              "      <th></th>\n",
              "      <th>Status</th>\n",
              "      <th>Life expectancy</th>\n",
              "      <th>Adult Mortality</th>\n",
              "      <th>BMI</th>\n",
              "      <th>HIV/AIDS</th>\n",
              "      <th>Diphtheria</th>\n",
              "      <th>Polio</th>\n",
              "      <th>GDP</th>\n",
              "      <th>Income composition of resources</th>\n",
              "      <th>Schooling</th>\n",
              "    </tr>\n",
              "  </thead>\n",
              "  <tbody>\n",
              "    <tr>\n",
              "      <th>0</th>\n",
              "      <td>False</td>\n",
              "      <td>False</td>\n",
              "      <td>286.0</td>\n",
              "      <td>16.5</td>\n",
              "      <td>0.7</td>\n",
              "      <td>96.0</td>\n",
              "      <td>96.0</td>\n",
              "      <td>582.775532</td>\n",
              "      <td>0.405</td>\n",
              "      <td>5.0</td>\n",
              "    </tr>\n",
              "    <tr>\n",
              "      <th>1</th>\n",
              "      <td>True</td>\n",
              "      <td>True</td>\n",
              "      <td>26.0</td>\n",
              "      <td>56.6</td>\n",
              "      <td>0.1</td>\n",
              "      <td>99.0</td>\n",
              "      <td>99.0</td>\n",
              "      <td>6351.812500</td>\n",
              "      <td>0.776</td>\n",
              "      <td>15.5</td>\n",
              "    </tr>\n",
              "    <tr>\n",
              "      <th>2</th>\n",
              "      <td>False</td>\n",
              "      <td>False</td>\n",
              "      <td>614.0</td>\n",
              "      <td>16.8</td>\n",
              "      <td>18.7</td>\n",
              "      <td>85.0</td>\n",
              "      <td>85.0</td>\n",
              "      <td>341.955625</td>\n",
              "      <td>0.418</td>\n",
              "      <td>9.6</td>\n",
              "    </tr>\n",
              "    <tr>\n",
              "      <th>3</th>\n",
              "      <td>True</td>\n",
              "      <td>True</td>\n",
              "      <td>49.0</td>\n",
              "      <td>57.4</td>\n",
              "      <td>0.1</td>\n",
              "      <td>97.0</td>\n",
              "      <td>97.0</td>\n",
              "      <td>8989.842400</td>\n",
              "      <td>0.938</td>\n",
              "      <td>16.0</td>\n",
              "    </tr>\n",
              "    <tr>\n",
              "      <th>4</th>\n",
              "      <td>False</td>\n",
              "      <td>False</td>\n",
              "      <td>7.0</td>\n",
              "      <td>27.9</td>\n",
              "      <td>26.8</td>\n",
              "      <td>7.0</td>\n",
              "      <td>71.0</td>\n",
              "      <td>414.796232</td>\n",
              "      <td>0.408</td>\n",
              "      <td>9.5</td>\n",
              "    </tr>\n",
              "  </tbody>\n",
              "</table>\n",
              "</div>\n",
              "      <button class=\"colab-df-convert\" onclick=\"convertToInteractive('df-fe9d2557-6e27-4d00-8967-53f34e075afc')\"\n",
              "              title=\"Convert this dataframe to an interactive table.\"\n",
              "              style=\"display:none;\">\n",
              "        \n",
              "  <svg xmlns=\"http://www.w3.org/2000/svg\" height=\"24px\"viewBox=\"0 0 24 24\"\n",
              "       width=\"24px\">\n",
              "    <path d=\"M0 0h24v24H0V0z\" fill=\"none\"/>\n",
              "    <path d=\"M18.56 5.44l.94 2.06.94-2.06 2.06-.94-2.06-.94-.94-2.06-.94 2.06-2.06.94zm-11 1L8.5 8.5l.94-2.06 2.06-.94-2.06-.94L8.5 2.5l-.94 2.06-2.06.94zm10 10l.94 2.06.94-2.06 2.06-.94-2.06-.94-.94-2.06-.94 2.06-2.06.94z\"/><path d=\"M17.41 7.96l-1.37-1.37c-.4-.4-.92-.59-1.43-.59-.52 0-1.04.2-1.43.59L10.3 9.45l-7.72 7.72c-.78.78-.78 2.05 0 2.83L4 21.41c.39.39.9.59 1.41.59.51 0 1.02-.2 1.41-.59l7.78-7.78 2.81-2.81c.8-.78.8-2.07 0-2.86zM5.41 20L4 18.59l7.72-7.72 1.47 1.35L5.41 20z\"/>\n",
              "  </svg>\n",
              "      </button>\n",
              "      \n",
              "  <style>\n",
              "    .colab-df-container {\n",
              "      display:flex;\n",
              "      flex-wrap:wrap;\n",
              "      gap: 12px;\n",
              "    }\n",
              "\n",
              "    .colab-df-convert {\n",
              "      background-color: #E8F0FE;\n",
              "      border: none;\n",
              "      border-radius: 50%;\n",
              "      cursor: pointer;\n",
              "      display: none;\n",
              "      fill: #1967D2;\n",
              "      height: 32px;\n",
              "      padding: 0 0 0 0;\n",
              "      width: 32px;\n",
              "    }\n",
              "\n",
              "    .colab-df-convert:hover {\n",
              "      background-color: #E2EBFA;\n",
              "      box-shadow: 0px 1px 2px rgba(60, 64, 67, 0.3), 0px 1px 3px 1px rgba(60, 64, 67, 0.15);\n",
              "      fill: #174EA6;\n",
              "    }\n",
              "\n",
              "    [theme=dark] .colab-df-convert {\n",
              "      background-color: #3B4455;\n",
              "      fill: #D2E3FC;\n",
              "    }\n",
              "\n",
              "    [theme=dark] .colab-df-convert:hover {\n",
              "      background-color: #434B5C;\n",
              "      box-shadow: 0px 1px 3px 1px rgba(0, 0, 0, 0.15);\n",
              "      filter: drop-shadow(0px 1px 2px rgba(0, 0, 0, 0.3));\n",
              "      fill: #FFFFFF;\n",
              "    }\n",
              "  </style>\n",
              "\n",
              "      <script>\n",
              "        const buttonEl =\n",
              "          document.querySelector('#df-fe9d2557-6e27-4d00-8967-53f34e075afc button.colab-df-convert');\n",
              "        buttonEl.style.display =\n",
              "          google.colab.kernel.accessAllowed ? 'block' : 'none';\n",
              "\n",
              "        async function convertToInteractive(key) {\n",
              "          const element = document.querySelector('#df-fe9d2557-6e27-4d00-8967-53f34e075afc');\n",
              "          const dataTable =\n",
              "            await google.colab.kernel.invokeFunction('convertToInteractive',\n",
              "                                                     [key], {});\n",
              "          if (!dataTable) return;\n",
              "\n",
              "          const docLinkHtml = 'Like what you see? Visit the ' +\n",
              "            '<a target=\"_blank\" href=https://colab.research.google.com/notebooks/data_table.ipynb>data table notebook</a>'\n",
              "            + ' to learn more about interactive tables.';\n",
              "          element.innerHTML = '';\n",
              "          dataTable['output_type'] = 'display_data';\n",
              "          await google.colab.output.renderOutput(dataTable, element);\n",
              "          const docLink = document.createElement('div');\n",
              "          docLink.innerHTML = docLinkHtml;\n",
              "          element.appendChild(docLink);\n",
              "        }\n",
              "      </script>\n",
              "    </div>\n",
              "  </div>\n",
              "  "
            ]
          },
          "metadata": {},
          "execution_count": 45
        }
      ]
    },
    {
      "cell_type": "code",
      "source": [
        "test_1.head()"
      ],
      "metadata": {
        "id": "W5UOkuVnws1N",
        "colab": {
          "base_uri": "https://localhost:8080/",
          "height": 206
        },
        "outputId": "f4f468c1-dd31-41cf-fbd8-22159fcfd27b"
      },
      "execution_count": null,
      "outputs": [
        {
          "output_type": "execute_result",
          "data": {
            "text/plain": [
              "   Status  Life expectancy  Adult Mortality   BMI  HIV/AIDS  Diphtheria  \\\n",
              "0   False             True             91.0  29.0       0.1        99.0   \n",
              "1   False            False             37.0  28.7      10.1        45.0   \n",
              "2   False             True            121.0   6.0       0.1        95.0   \n",
              "3    True             True             73.0  55.7       0.1        89.0   \n",
              "4    True             True            139.0  57.7       0.1        89.0   \n",
              "\n",
              "   Polio           GDP  Income composition of resources  Schooling  \n",
              "0   99.0   5633.796160                            0.700       12.8  \n",
              "1   44.0   3976.148870                            0.633       12.3  \n",
              "2   95.0   5237.255334                            0.775       14.4  \n",
              "3   89.0  51126.741390                            0.880       15.7  \n",
              "4   89.0     92.277825                            0.798       15.7  "
            ],
            "text/html": [
              "\n",
              "  <div id=\"df-d3240cbc-ce84-480a-b627-43021a6789b9\">\n",
              "    <div class=\"colab-df-container\">\n",
              "      <div>\n",
              "<style scoped>\n",
              "    .dataframe tbody tr th:only-of-type {\n",
              "        vertical-align: middle;\n",
              "    }\n",
              "\n",
              "    .dataframe tbody tr th {\n",
              "        vertical-align: top;\n",
              "    }\n",
              "\n",
              "    .dataframe thead th {\n",
              "        text-align: right;\n",
              "    }\n",
              "</style>\n",
              "<table border=\"1\" class=\"dataframe\">\n",
              "  <thead>\n",
              "    <tr style=\"text-align: right;\">\n",
              "      <th></th>\n",
              "      <th>Status</th>\n",
              "      <th>Life expectancy</th>\n",
              "      <th>Adult Mortality</th>\n",
              "      <th>BMI</th>\n",
              "      <th>HIV/AIDS</th>\n",
              "      <th>Diphtheria</th>\n",
              "      <th>Polio</th>\n",
              "      <th>GDP</th>\n",
              "      <th>Income composition of resources</th>\n",
              "      <th>Schooling</th>\n",
              "    </tr>\n",
              "  </thead>\n",
              "  <tbody>\n",
              "    <tr>\n",
              "      <th>0</th>\n",
              "      <td>False</td>\n",
              "      <td>True</td>\n",
              "      <td>91.0</td>\n",
              "      <td>29.0</td>\n",
              "      <td>0.1</td>\n",
              "      <td>99.0</td>\n",
              "      <td>99.0</td>\n",
              "      <td>5633.796160</td>\n",
              "      <td>0.700</td>\n",
              "      <td>12.8</td>\n",
              "    </tr>\n",
              "    <tr>\n",
              "      <th>1</th>\n",
              "      <td>False</td>\n",
              "      <td>False</td>\n",
              "      <td>37.0</td>\n",
              "      <td>28.7</td>\n",
              "      <td>10.1</td>\n",
              "      <td>45.0</td>\n",
              "      <td>44.0</td>\n",
              "      <td>3976.148870</td>\n",
              "      <td>0.633</td>\n",
              "      <td>12.3</td>\n",
              "    </tr>\n",
              "    <tr>\n",
              "      <th>2</th>\n",
              "      <td>False</td>\n",
              "      <td>True</td>\n",
              "      <td>121.0</td>\n",
              "      <td>6.0</td>\n",
              "      <td>0.1</td>\n",
              "      <td>95.0</td>\n",
              "      <td>95.0</td>\n",
              "      <td>5237.255334</td>\n",
              "      <td>0.775</td>\n",
              "      <td>14.4</td>\n",
              "    </tr>\n",
              "    <tr>\n",
              "      <th>3</th>\n",
              "      <td>True</td>\n",
              "      <td>True</td>\n",
              "      <td>73.0</td>\n",
              "      <td>55.7</td>\n",
              "      <td>0.1</td>\n",
              "      <td>89.0</td>\n",
              "      <td>89.0</td>\n",
              "      <td>51126.741390</td>\n",
              "      <td>0.880</td>\n",
              "      <td>15.7</td>\n",
              "    </tr>\n",
              "    <tr>\n",
              "      <th>4</th>\n",
              "      <td>True</td>\n",
              "      <td>True</td>\n",
              "      <td>139.0</td>\n",
              "      <td>57.7</td>\n",
              "      <td>0.1</td>\n",
              "      <td>89.0</td>\n",
              "      <td>89.0</td>\n",
              "      <td>92.277825</td>\n",
              "      <td>0.798</td>\n",
              "      <td>15.7</td>\n",
              "    </tr>\n",
              "  </tbody>\n",
              "</table>\n",
              "</div>\n",
              "      <button class=\"colab-df-convert\" onclick=\"convertToInteractive('df-d3240cbc-ce84-480a-b627-43021a6789b9')\"\n",
              "              title=\"Convert this dataframe to an interactive table.\"\n",
              "              style=\"display:none;\">\n",
              "        \n",
              "  <svg xmlns=\"http://www.w3.org/2000/svg\" height=\"24px\"viewBox=\"0 0 24 24\"\n",
              "       width=\"24px\">\n",
              "    <path d=\"M0 0h24v24H0V0z\" fill=\"none\"/>\n",
              "    <path d=\"M18.56 5.44l.94 2.06.94-2.06 2.06-.94-2.06-.94-.94-2.06-.94 2.06-2.06.94zm-11 1L8.5 8.5l.94-2.06 2.06-.94-2.06-.94L8.5 2.5l-.94 2.06-2.06.94zm10 10l.94 2.06.94-2.06 2.06-.94-2.06-.94-.94-2.06-.94 2.06-2.06.94z\"/><path d=\"M17.41 7.96l-1.37-1.37c-.4-.4-.92-.59-1.43-.59-.52 0-1.04.2-1.43.59L10.3 9.45l-7.72 7.72c-.78.78-.78 2.05 0 2.83L4 21.41c.39.39.9.59 1.41.59.51 0 1.02-.2 1.41-.59l7.78-7.78 2.81-2.81c.8-.78.8-2.07 0-2.86zM5.41 20L4 18.59l7.72-7.72 1.47 1.35L5.41 20z\"/>\n",
              "  </svg>\n",
              "      </button>\n",
              "      \n",
              "  <style>\n",
              "    .colab-df-container {\n",
              "      display:flex;\n",
              "      flex-wrap:wrap;\n",
              "      gap: 12px;\n",
              "    }\n",
              "\n",
              "    .colab-df-convert {\n",
              "      background-color: #E8F0FE;\n",
              "      border: none;\n",
              "      border-radius: 50%;\n",
              "      cursor: pointer;\n",
              "      display: none;\n",
              "      fill: #1967D2;\n",
              "      height: 32px;\n",
              "      padding: 0 0 0 0;\n",
              "      width: 32px;\n",
              "    }\n",
              "\n",
              "    .colab-df-convert:hover {\n",
              "      background-color: #E2EBFA;\n",
              "      box-shadow: 0px 1px 2px rgba(60, 64, 67, 0.3), 0px 1px 3px 1px rgba(60, 64, 67, 0.15);\n",
              "      fill: #174EA6;\n",
              "    }\n",
              "\n",
              "    [theme=dark] .colab-df-convert {\n",
              "      background-color: #3B4455;\n",
              "      fill: #D2E3FC;\n",
              "    }\n",
              "\n",
              "    [theme=dark] .colab-df-convert:hover {\n",
              "      background-color: #434B5C;\n",
              "      box-shadow: 0px 1px 3px 1px rgba(0, 0, 0, 0.15);\n",
              "      filter: drop-shadow(0px 1px 2px rgba(0, 0, 0, 0.3));\n",
              "      fill: #FFFFFF;\n",
              "    }\n",
              "  </style>\n",
              "\n",
              "      <script>\n",
              "        const buttonEl =\n",
              "          document.querySelector('#df-d3240cbc-ce84-480a-b627-43021a6789b9 button.colab-df-convert');\n",
              "        buttonEl.style.display =\n",
              "          google.colab.kernel.accessAllowed ? 'block' : 'none';\n",
              "\n",
              "        async function convertToInteractive(key) {\n",
              "          const element = document.querySelector('#df-d3240cbc-ce84-480a-b627-43021a6789b9');\n",
              "          const dataTable =\n",
              "            await google.colab.kernel.invokeFunction('convertToInteractive',\n",
              "                                                     [key], {});\n",
              "          if (!dataTable) return;\n",
              "\n",
              "          const docLinkHtml = 'Like what you see? Visit the ' +\n",
              "            '<a target=\"_blank\" href=https://colab.research.google.com/notebooks/data_table.ipynb>data table notebook</a>'\n",
              "            + ' to learn more about interactive tables.';\n",
              "          element.innerHTML = '';\n",
              "          dataTable['output_type'] = 'display_data';\n",
              "          await google.colab.output.renderOutput(dataTable, element);\n",
              "          const docLink = document.createElement('div');\n",
              "          docLink.innerHTML = docLinkHtml;\n",
              "          element.appendChild(docLink);\n",
              "        }\n",
              "      </script>\n",
              "    </div>\n",
              "  </div>\n",
              "  "
            ]
          },
          "metadata": {},
          "execution_count": 46
        }
      ]
    },
    {
      "cell_type": "code",
      "source": [
        "X_train_log = train_1.drop('Life expectancy',axis=1).values\n",
        "y_train_log = train_1['Life expectancy'].values\n",
        "X_test_log = test_1.drop('Life expectancy',axis=1).values\n",
        "y_test_log = test_1['Life expectancy'].values"
      ],
      "metadata": {
        "id": "uYjlAb-FVA2V"
      },
      "execution_count": null,
      "outputs": []
    },
    {
      "cell_type": "code",
      "source": [
        "from sklearn.linear_model import LogisticRegression\n",
        "logreg = LogisticRegression()\n",
        "logreg.fit(X_train_log,y_train_log)"
      ],
      "metadata": {
        "id": "yuW9t5F9ws3_",
        "colab": {
          "base_uri": "https://localhost:8080/"
        },
        "outputId": "f440a773-2a6a-4bc1-dc3b-e78689ab9e96"
      },
      "execution_count": null,
      "outputs": [
        {
          "output_type": "stream",
          "name": "stderr",
          "text": [
            "/usr/local/lib/python3.7/dist-packages/sklearn/linear_model/_logistic.py:818: ConvergenceWarning: lbfgs failed to converge (status=1):\n",
            "STOP: TOTAL NO. of ITERATIONS REACHED LIMIT.\n",
            "\n",
            "Increase the number of iterations (max_iter) or scale the data as shown in:\n",
            "    https://scikit-learn.org/stable/modules/preprocessing.html\n",
            "Please also refer to the documentation for alternative solver options:\n",
            "    https://scikit-learn.org/stable/modules/linear_model.html#logistic-regression\n",
            "  extra_warning_msg=_LOGISTIC_SOLVER_CONVERGENCE_MSG,\n"
          ]
        },
        {
          "output_type": "execute_result",
          "data": {
            "text/plain": [
              "LogisticRegression()"
            ]
          },
          "metadata": {},
          "execution_count": 48
        }
      ]
    },
    {
      "cell_type": "code",
      "source": [
        "y_pred_log = logreg.predict(X_test_log)"
      ],
      "metadata": {
        "id": "bq-G3H9Mt0xK"
      },
      "execution_count": null,
      "outputs": []
    },
    {
      "cell_type": "markdown",
      "source": [
        "1. What is the accuracy of the logistic regression model on the test dataset?"
      ],
      "metadata": {
        "id": "9yLqWUEtuzZE"
      }
    },
    {
      "cell_type": "code",
      "source": [
        "from sklearn.metrics import accuracy_score\n",
        "accuracy = accuracy_score(y_test_log,y_pred_log)\n",
        "print('Accuracy of the logistic regression model is : ',accuracy)"
      ],
      "metadata": {
        "id": "awtvlaulws7M",
        "colab": {
          "base_uri": "https://localhost:8080/"
        },
        "outputId": "804bc550-1a0f-41ef-fe29-65df1791cbe5"
      },
      "execution_count": null,
      "outputs": [
        {
          "output_type": "stream",
          "name": "stdout",
          "text": [
            "Accuracy of the logistic regression model is :  0.9523809523809523\n"
          ]
        }
      ]
    },
    {
      "cell_type": "markdown",
      "source": [
        "2. Find the number of false positives & False negatives on the test data set.\n"
      ],
      "metadata": {
        "id": "qobvLPO1C48s"
      }
    },
    {
      "cell_type": "code",
      "source": [
        "from sklearn.metrics import confusion_matrix\n",
        "confusion_matrix(y_test_log, y_pred_log)"
      ],
      "metadata": {
        "id": "pTLKhYIPwtBz",
        "colab": {
          "base_uri": "https://localhost:8080/"
        },
        "outputId": "c23df698-b42d-430b-a2ee-5b21d987510c"
      },
      "execution_count": null,
      "outputs": [
        {
          "output_type": "execute_result",
          "data": {
            "text/plain": [
              "array([[115,  16],\n",
              "       [  5, 305]])"
            ]
          },
          "metadata": {},
          "execution_count": 51
        }
      ]
    },
    {
      "cell_type": "markdown",
      "source": [
        "Number of false positives: 16\n",
        "\n",
        "Number of false negatives: 5"
      ],
      "metadata": {
        "id": "WrnVhGDoDYDO"
      }
    },
    {
      "cell_type": "markdown",
      "source": [
        "3. Calculate the precision and recall on the test dataset.\n"
      ],
      "metadata": {
        "id": "JMhtYwIj0EBc"
      }
    },
    {
      "cell_type": "code",
      "source": [
        "from sklearn.metrics import precision_score,recall_score\n",
        "print('Precision: ',precision_score(y_test_log,y_pred_log))\n",
        "print('Recall: ',recall_score(y_test_log,y_pred_log))"
      ],
      "metadata": {
        "id": "doMum9VQwtDq",
        "colab": {
          "base_uri": "https://localhost:8080/"
        },
        "outputId": "e899c455-7469-47a0-a6ad-7137a9f1889f"
      },
      "execution_count": null,
      "outputs": [
        {
          "output_type": "stream",
          "name": "stdout",
          "text": [
            "Precision:  0.9501557632398754\n",
            "Recall:  0.9838709677419355\n"
          ]
        }
      ]
    },
    {
      "cell_type": "markdown",
      "source": [
        "4. What is the value of the cost function on the train and test dataset?\n"
      ],
      "metadata": {
        "id": "bJDsw2nm1Ggd"
      }
    },
    {
      "cell_type": "code",
      "source": [
        "y_test_log_1 = y_test_log.copy()\n",
        "y_pred_log_1 = y_pred_log.copy()"
      ],
      "metadata": {
        "id": "7_EqVZtb34Hb"
      },
      "execution_count": null,
      "outputs": []
    },
    {
      "cell_type": "code",
      "source": [
        "y_test_log_1 = y_test_log_1.astype(np.float32)\n",
        "y_pred_log_1 = y_pred_log_1.astype(np.float32)"
      ],
      "metadata": {
        "id": "lF6Ewgxw4MSL"
      },
      "execution_count": null,
      "outputs": []
    },
    {
      "cell_type": "code",
      "source": [
        "mse_log = mean_squared_error(y_test_log_1,y_pred_log_1)\n",
        "print('Mean squared error of train test dataset is: ',mse_log)\n",
        "print('Root mean squared error of train test dataset is: ',sqrt(mse_log))"
      ],
      "metadata": {
        "colab": {
          "base_uri": "https://localhost:8080/"
        },
        "id": "doNI5zG11CMo",
        "outputId": "d38e85da-9dd0-44ef-99b4-28941b3cec04"
      },
      "execution_count": null,
      "outputs": [
        {
          "output_type": "stream",
          "name": "stdout",
          "text": [
            "Mean squared error of train test dataset is:  0.04761905\n",
            "Root mean squared error of train test dataset is:  0.21821789226830485\n"
          ]
        }
      ]
    },
    {
      "cell_type": "markdown",
      "source": [
        "5. If we keep the threshold for positive class to be 70% then what is the accuracy of the model on the test dataset?\n"
      ],
      "metadata": {
        "id": "wOJ_9hR46UPA"
      }
    },
    {
      "cell_type": "code",
      "source": [
        "threshold = 0.70\n",
        "pred =[]\n",
        "for i in logreg.decision_function(X_test_log):\n",
        "    if i<threshold:\n",
        "        pred.append(0)\n",
        "    else:\n",
        "        pred.append(1)\n",
        "    # print(desired_predict)\n",
        "print(\"New accuracy value after setting threshold to 0.70:\", accuracy_score(y_test_log, pred))"
      ],
      "metadata": {
        "colab": {
          "base_uri": "https://localhost:8080/"
        },
        "id": "lVQASqSP5i4t",
        "outputId": "210b113d-6f44-4670-98f2-7739ede74500"
      },
      "execution_count": null,
      "outputs": [
        {
          "output_type": "stream",
          "name": "stdout",
          "text": [
            "New accuracy value after setting threshold to 0.70: 0.9523809523809523\n"
          ]
        }
      ]
    },
    {
      "cell_type": "markdown",
      "source": [
        "# **Decision Tree:**"
      ],
      "metadata": {
        "id": "_ct_x7qL3Qwz"
      }
    },
    {
      "cell_type": "code",
      "source": [
        "X_train_dec = train_1.drop('Life expectancy',axis=1).values\n",
        "y_train_dec = train_1['Life expectancy'].values\n",
        "X_test_dec = test_1.drop('Life expectancy',axis=1).values\n",
        "y_test_dec = test_1['Life expectancy'].values"
      ],
      "metadata": {
        "id": "SZcA-s-u5jAf"
      },
      "execution_count": null,
      "outputs": []
    },
    {
      "cell_type": "code",
      "source": [
        "from sklearn.tree import DecisionTreeClassifier\n",
        "classifier = DecisionTreeClassifier(max_depth=6)\n",
        "classifier.fit(X_train_dec,y_train_dec)\n",
        "y_pred_dec = classifier.predict(X_test_dec)"
      ],
      "metadata": {
        "id": "_XpT-imu5jE4"
      },
      "execution_count": null,
      "outputs": []
    },
    {
      "cell_type": "code",
      "source": [
        "from sklearn.tree import plot_tree\n",
        "plt.figure(figsize=(20,15))\n",
        "plot_tree(classifier,filled=True)"
      ],
      "metadata": {
        "colab": {
          "base_uri": "https://localhost:8080/",
          "height": 1000
        },
        "id": "zJW54HSp6DXe",
        "outputId": "e0f497b9-9632-48e6-fb30-96752fa18a72"
      },
      "execution_count": null,
      "outputs": [
        {
          "output_type": "execute_result",
          "data": {
            "text/plain": [
              "[Text(0.6025280898876404, 0.9285714285714286, 'X[7] <= 0.537\\ngini = 0.4\\nsamples = 1764\\nvalue = [487, 1277]'),\n",
              " Text(0.41853932584269665, 0.7857142857142857, 'X[3] <= 0.65\\ngini = 0.306\\nsamples = 514\\nvalue = [417, 97]'),\n",
              " Text(0.21910112359550563, 0.6428571428571429, 'X[1] <= 212.5\\ngini = 0.5\\nsamples = 158\\nvalue = [81, 77]'),\n",
              " Text(0.11235955056179775, 0.5, 'X[6] <= 615.685\\ngini = 0.378\\nsamples = 87\\nvalue = [22, 65]'),\n",
              " Text(0.0449438202247191, 0.35714285714285715, 'X[4] <= 68.5\\ngini = 0.5\\nsamples = 41\\nvalue = [20, 21]'),\n",
              " Text(0.02247191011235955, 0.21428571428571427, 'gini = 0.0\\nsamples = 11\\nvalue = [11, 0]'),\n",
              " Text(0.06741573033707865, 0.21428571428571427, 'X[3] <= 0.25\\ngini = 0.42\\nsamples = 30\\nvalue = [9, 21]'),\n",
              " Text(0.0449438202247191, 0.07142857142857142, 'gini = 0.287\\nsamples = 23\\nvalue = [4, 19]'),\n",
              " Text(0.0898876404494382, 0.07142857142857142, 'gini = 0.408\\nsamples = 7\\nvalue = [5, 2]'),\n",
              " Text(0.1797752808988764, 0.35714285714285715, 'X[7] <= 0.536\\ngini = 0.083\\nsamples = 46\\nvalue = [2, 44]'),\n",
              " Text(0.15730337078651685, 0.21428571428571427, 'X[8] <= 6.9\\ngini = 0.043\\nsamples = 45\\nvalue = [1, 44]'),\n",
              " Text(0.1348314606741573, 0.07142857142857142, 'gini = 0.245\\nsamples = 7\\nvalue = [1, 6]'),\n",
              " Text(0.1797752808988764, 0.07142857142857142, 'gini = 0.0\\nsamples = 38\\nvalue = [0, 38]'),\n",
              " Text(0.20224719101123595, 0.21428571428571427, 'gini = 0.0\\nsamples = 1\\nvalue = [1, 0]'),\n",
              " Text(0.3258426966292135, 0.5, 'X[2] <= 4.55\\ngini = 0.281\\nsamples = 71\\nvalue = [59, 12]'),\n",
              " Text(0.2696629213483146, 0.35714285714285715, 'X[6] <= 1099.341\\ngini = 0.375\\nsamples = 4\\nvalue = [1, 3]'),\n",
              " Text(0.24719101123595505, 0.21428571428571427, 'gini = 0.0\\nsamples = 3\\nvalue = [0, 3]'),\n",
              " Text(0.29213483146067415, 0.21428571428571427, 'gini = 0.0\\nsamples = 1\\nvalue = [1, 0]'),\n",
              " Text(0.38202247191011235, 0.35714285714285715, 'X[6] <= 915.228\\ngini = 0.233\\nsamples = 67\\nvalue = [58, 9]'),\n",
              " Text(0.33707865168539325, 0.21428571428571427, 'X[5] <= 8.5\\ngini = 0.155\\nsamples = 59\\nvalue = [54, 5]'),\n",
              " Text(0.3146067415730337, 0.07142857142857142, 'gini = 0.444\\nsamples = 6\\nvalue = [4, 2]'),\n",
              " Text(0.3595505617977528, 0.07142857142857142, 'gini = 0.107\\nsamples = 53\\nvalue = [50, 3]'),\n",
              " Text(0.42696629213483145, 0.21428571428571427, 'X[3] <= 0.25\\ngini = 0.5\\nsamples = 8\\nvalue = [4, 4]'),\n",
              " Text(0.4044943820224719, 0.07142857142857142, 'gini = 0.32\\nsamples = 5\\nvalue = [4, 1]'),\n",
              " Text(0.449438202247191, 0.07142857142857142, 'gini = 0.0\\nsamples = 3\\nvalue = [0, 3]'),\n",
              " Text(0.6179775280898876, 0.6428571428571429, 'X[2] <= 48.1\\ngini = 0.106\\nsamples = 356\\nvalue = [336, 20]'),\n",
              " Text(0.5955056179775281, 0.5, 'X[3] <= 1.35\\ngini = 0.092\\nsamples = 353\\nvalue = [336, 17]'),\n",
              " Text(0.5393258426966292, 0.35714285714285715, 'X[7] <= 0.524\\ngini = 0.275\\nsamples = 73\\nvalue = [61, 12]'),\n",
              " Text(0.5168539325842697, 0.21428571428571427, 'X[7] <= 0.146\\ngini = 0.224\\nsamples = 70\\nvalue = [61, 9]'),\n",
              " Text(0.4943820224719101, 0.07142857142857142, 'gini = 0.0\\nsamples = 2\\nvalue = [0, 2]'),\n",
              " Text(0.5393258426966292, 0.07142857142857142, 'gini = 0.185\\nsamples = 68\\nvalue = [61, 7]'),\n",
              " Text(0.5617977528089888, 0.21428571428571427, 'gini = 0.0\\nsamples = 3\\nvalue = [0, 3]'),\n",
              " Text(0.651685393258427, 0.35714285714285715, 'X[6] <= 9.411\\ngini = 0.035\\nsamples = 280\\nvalue = [275, 5]'),\n",
              " Text(0.6067415730337079, 0.21428571428571427, 'X[5] <= 79.5\\ngini = 0.5\\nsamples = 2\\nvalue = [1, 1]'),\n",
              " Text(0.5842696629213483, 0.07142857142857142, 'gini = 0.0\\nsamples = 1\\nvalue = [1, 0]'),\n",
              " Text(0.6292134831460674, 0.07142857142857142, 'gini = 0.0\\nsamples = 1\\nvalue = [0, 1]'),\n",
              " Text(0.6966292134831461, 0.21428571428571427, 'X[2] <= 41.5\\ngini = 0.028\\nsamples = 278\\nvalue = [274, 4]'),\n",
              " Text(0.6741573033707865, 0.07142857142857142, 'gini = 0.022\\nsamples = 274\\nvalue = [271, 3]'),\n",
              " Text(0.7191011235955056, 0.07142857142857142, 'gini = 0.375\\nsamples = 4\\nvalue = [3, 1]'),\n",
              " Text(0.6404494382022472, 0.5, 'gini = 0.0\\nsamples = 3\\nvalue = [0, 3]'),\n",
              " Text(0.7865168539325843, 0.7857142857142857, 'X[1] <= 248.5\\ngini = 0.106\\nsamples = 1250\\nvalue = [70, 1180]'),\n",
              " Text(0.7078651685393258, 0.6428571428571429, 'X[3] <= 3.9\\ngini = 0.007\\nsamples = 1167\\nvalue = [4, 1163]'),\n",
              " Text(0.6853932584269663, 0.5, 'gini = 0.0\\nsamples = 1162\\nvalue = [0, 1162]'),\n",
              " Text(0.7303370786516854, 0.5, 'X[7] <= 0.615\\ngini = 0.32\\nsamples = 5\\nvalue = [4, 1]'),\n",
              " Text(0.7078651685393258, 0.35714285714285715, 'gini = 0.0\\nsamples = 4\\nvalue = [4, 0]'),\n",
              " Text(0.7528089887640449, 0.35714285714285715, 'gini = 0.0\\nsamples = 1\\nvalue = [0, 1]'),\n",
              " Text(0.8651685393258427, 0.6428571428571429, 'X[2] <= 47.55\\ngini = 0.326\\nsamples = 83\\nvalue = [66, 17]'),\n",
              " Text(0.8202247191011236, 0.5, 'X[1] <= 272.5\\ngini = 0.086\\nsamples = 67\\nvalue = [64, 3]'),\n",
              " Text(0.797752808988764, 0.35714285714285715, 'X[7] <= 0.63\\ngini = 0.375\\nsamples = 12\\nvalue = [9, 3]'),\n",
              " Text(0.7752808988764045, 0.21428571428571427, 'gini = 0.0\\nsamples = 9\\nvalue = [9, 0]'),\n",
              " Text(0.8202247191011236, 0.21428571428571427, 'gini = 0.0\\nsamples = 3\\nvalue = [0, 3]'),\n",
              " Text(0.8426966292134831, 0.35714285714285715, 'gini = 0.0\\nsamples = 55\\nvalue = [55, 0]'),\n",
              " Text(0.9101123595505618, 0.5, 'X[7] <= 0.641\\ngini = 0.219\\nsamples = 16\\nvalue = [2, 14]'),\n",
              " Text(0.8876404494382022, 0.35714285714285715, 'gini = 0.0\\nsamples = 1\\nvalue = [1, 0]'),\n",
              " Text(0.9325842696629213, 0.35714285714285715, 'X[1] <= 301.5\\ngini = 0.124\\nsamples = 15\\nvalue = [1, 14]'),\n",
              " Text(0.9101123595505618, 0.21428571428571427, 'gini = 0.0\\nsamples = 12\\nvalue = [0, 12]'),\n",
              " Text(0.9550561797752809, 0.21428571428571427, 'X[1] <= 324.0\\ngini = 0.444\\nsamples = 3\\nvalue = [1, 2]'),\n",
              " Text(0.9325842696629213, 0.07142857142857142, 'gini = 0.0\\nsamples = 1\\nvalue = [1, 0]'),\n",
              " Text(0.9775280898876404, 0.07142857142857142, 'gini = 0.0\\nsamples = 2\\nvalue = [0, 2]')]"
            ]
          },
          "metadata": {},
          "execution_count": 59
        },
        {
          "output_type": "display_data",
          "data": {
            "text/plain": [
              "<Figure size 1440x1080 with 1 Axes>"
            ],
            "image/png": "[encoded data removed]"
          },
          "metadata": {
            "needs_background": "light"
          }
        }
      ]
    },
    {
      "cell_type": "markdown",
      "source": [
        "1 What is the accuracy of the Decision Tree model on the test dataset?"
      ],
      "metadata": {
        "id": "TRfIN1m-41z0"
      }
    },
    {
      "cell_type": "code",
      "source": [
        "print('Accuracy of Decision Tree model on test dataset is: ',accuracy_score(y_test_dec,y_pred_dec))"
      ],
      "metadata": {
        "colab": {
          "base_uri": "https://localhost:8080/"
        },
        "id": "vIZknXII5jLE",
        "outputId": "f9e56dd9-d32a-4aa2-d65e-2b2dcb5a82b1"
      },
      "execution_count": null,
      "outputs": [
        {
          "output_type": "stream",
          "name": "stdout",
          "text": [
            "Accuracy of Decision Tree model on test dataset is:  0.9569160997732427\n"
          ]
        }
      ]
    },
    {
      "cell_type": "markdown",
      "source": [
        "2 Find the number of false positives & False negatives on the test data set."
      ],
      "metadata": {
        "id": "zfnBO4nc5LiD"
      }
    },
    {
      "cell_type": "code",
      "source": [
        "confusion_matrix(y_test_dec,y_pred_dec)"
      ],
      "metadata": {
        "colab": {
          "base_uri": "https://localhost:8080/"
        },
        "id": "CMpFbkf-5jMo",
        "outputId": "ff0e9743-8b41-4b55-8f78-56add06157fb"
      },
      "execution_count": null,
      "outputs": [
        {
          "output_type": "execute_result",
          "data": {
            "text/plain": [
              "array([[121,  10],\n",
              "       [  9, 301]])"
            ]
          },
          "metadata": {},
          "execution_count": 61
        }
      ]
    },
    {
      "cell_type": "markdown",
      "source": [
        "Number of false positives: 11\n",
        "\n",
        "Number of false negatives: 9"
      ],
      "metadata": {
        "id": "oRfyS20c5TUf"
      }
    },
    {
      "cell_type": "markdown",
      "source": [
        "3 Calculate the precision and recall on the test dataset."
      ],
      "metadata": {
        "id": "_UzlxojZ5epZ"
      }
    },
    {
      "cell_type": "code",
      "source": [
        "print('Precision of Decision Tree model on test dataset is: ',precision_score(y_test_dec,y_pred_dec))\n",
        "print('Recall of Decision Tree model on test dataset is: ',recall_score(y_test_dec,y_pred_dec))"
      ],
      "metadata": {
        "colab": {
          "base_uri": "https://localhost:8080/"
        },
        "id": "mtB0BJY55jOH",
        "outputId": "0fa7df84-0460-44f7-845e-2e1efff6088d"
      },
      "execution_count": null,
      "outputs": [
        {
          "output_type": "stream",
          "name": "stdout",
          "text": [
            "Precision of Decision Tree model on test dataset is:  0.9678456591639871\n",
            "Recall of Decision Tree model on test dataset is:  0.9709677419354839\n"
          ]
        }
      ]
    },
    {
      "cell_type": "markdown",
      "source": [
        "4 What is the Gini Impurity of the train dataset?"
      ],
      "metadata": {
        "id": "AvyMCDXl51JY"
      }
    },
    {
      "cell_type": "code",
      "source": [
        "def gini(x):\n",
        "    total = 0\n",
        "    for i, j in enumerate(x[:-1], 1):\n",
        "        total += np.sum(np.abs(j - x[i:]))\n",
        "    return total / (len(x)**2 * np.mean(x))"
      ],
      "metadata": {
        "id": "tuE17vuMLTT6"
      },
      "execution_count": null,
      "outputs": []
    },
    {
      "cell_type": "code",
      "source": [
        "y_train_dec1 = y_train_dec.astype(np.float32)\n",
        "print('Gini impurity of train dataset is: ',gini(y_train_dec1))"
      ],
      "metadata": {
        "colab": {
          "base_uri": "https://localhost:8080/"
        },
        "id": "c5iqTSLDL7A4",
        "outputId": "415e8b55-2242-49c8-faca-f22afab935fa"
      },
      "execution_count": null,
      "outputs": [
        {
          "output_type": "stream",
          "name": "stdout",
          "text": [
            "Gini impurity of train dataset is:  0.2760770952892695\n"
          ]
        }
      ]
    },
    {
      "cell_type": "markdown",
      "source": [
        "5 What is the entropy of the train dataset?"
      ],
      "metadata": {
        "id": "rLGAtQbmZX6I"
      }
    },
    {
      "cell_type": "code",
      "source": [
        "import math\n",
        "def entropy_cal(probabilities):\n",
        "    total_entropy = 0\n",
        "    for i in probabilities:\n",
        "        total_entropy += -i * math.log2(i)\n",
        "    return total_entropy"
      ],
      "metadata": {
        "id": "8eN7HAE5PDlv"
      },
      "execution_count": null,
      "outputs": []
    },
    {
      "cell_type": "code",
      "source": [
        "y_pred_probs_train = classifier.predict_proba(X_train_dec)[:,1]\n",
        "probabilities_train = y_pred_probs_train[:15]\n",
        "entropy = entropy_cal(probabilities_train)\n",
        "print('Entropy of train dataset is: ',entropy)"
      ],
      "metadata": {
        "colab": {
          "base_uri": "https://localhost:8080/"
        },
        "id": "31X3Eh4FaEIY",
        "outputId": "2c4a205f-9260-4ef9-f41b-6fe08af4e22d"
      },
      "execution_count": null,
      "outputs": [
        {
          "output_type": "stream",
          "name": "stdout",
          "text": [
            "Entropy of train dataset is:  0.7792891284456005\n"
          ]
        }
      ]
    },
    {
      "cell_type": "markdown",
      "source": [
        "6. What is the Gini Impurity of the test dataset?"
      ],
      "metadata": {
        "id": "p5simWnLZuiT"
      }
    },
    {
      "cell_type": "code",
      "source": [
        "y_test_dec1 = y_test_dec.astype(np.float32)\n",
        "print('Gini impurity of test dataset is: ',gini(y_test_dec1))"
      ],
      "metadata": {
        "colab": {
          "base_uri": "https://localhost:8080/"
        },
        "id": "LOCFWDtcZxFd",
        "outputId": "8f3a4049-6853-4f21-a67b-6ec17f4354f0"
      },
      "execution_count": null,
      "outputs": [
        {
          "output_type": "stream",
          "name": "stdout",
          "text": [
            "Gini impurity of test dataset is:  0.29705215031118304\n"
          ]
        }
      ]
    },
    {
      "cell_type": "markdown",
      "source": [
        "7. What is the entropy of the test dataset?"
      ],
      "metadata": {
        "id": "4lZk2WEaZ65p"
      }
    },
    {
      "cell_type": "code",
      "source": [
        "y_pred_probs_test = classifier.predict_proba(X_test_dec)[:,1]\n",
        "probabilities_test = y_pred_probs_test[:15]\n",
        "entropy = entropy_cal(probabilities_test)\n",
        "print('Entropy of test dataset is: ',entropy)"
      ],
      "metadata": {
        "colab": {
          "base_uri": "https://localhost:8080/"
        },
        "id": "S-EpCwa2Z-bB",
        "outputId": "94db9bae-401e-4519-e78d-7930119e313b"
      },
      "execution_count": null,
      "outputs": [
        {
          "output_type": "stream",
          "name": "stdout",
          "text": [
            "Entropy of test dataset is:  0.4758659987409946\n"
          ]
        }
      ]
    },
    {
      "cell_type": "markdown",
      "source": [
        "# **Random Forest:**"
      ],
      "metadata": {
        "id": "gpHkg-KFOjmV"
      }
    },
    {
      "cell_type": "code",
      "source": [
        "X_train_for = train_1.drop('Life expectancy',axis=1).values\n",
        "y_train_for = train_1['Life expectancy'].values\n",
        "X_test_for = test_1.drop('Life expectancy',axis=1).values\n",
        "y_test_for = test_1['Life expectancy'].values"
      ],
      "metadata": {
        "id": "Lqi4rCwu5yF1"
      },
      "execution_count": null,
      "outputs": []
    },
    {
      "cell_type": "code",
      "source": [
        "from sklearn.ensemble import RandomForestClassifier\n",
        "clf = RandomForestClassifier()\n",
        "clf.fit(X_train_for,y_train_for)\n",
        "y_pred_for = clf.predict(X_test_for)"
      ],
      "metadata": {
        "id": "6owUQTS45yJf"
      },
      "execution_count": null,
      "outputs": []
    },
    {
      "cell_type": "markdown",
      "source": [
        "1 What is the accuracy of the model on the test dataset?"
      ],
      "metadata": {
        "id": "uEZebx5hPR72"
      }
    },
    {
      "cell_type": "code",
      "source": [
        "print('Accuracy of the model on test dataset is: ',accuracy_score(y_test_for,y_pred_for))"
      ],
      "metadata": {
        "colab": {
          "base_uri": "https://localhost:8080/"
        },
        "id": "jqrpL7i25yMM",
        "outputId": "e90940c2-6e9f-40cb-c12a-6c42b59ada38"
      },
      "execution_count": null,
      "outputs": [
        {
          "output_type": "stream",
          "name": "stdout",
          "text": [
            "Accuracy of the model on test dataset is:  0.9705215419501134\n"
          ]
        }
      ]
    },
    {
      "cell_type": "markdown",
      "source": [
        "2 Find the number of false positives & False negatives on the test data set"
      ],
      "metadata": {
        "id": "XPFxAlH1Pmf8"
      }
    },
    {
      "cell_type": "code",
      "source": [
        "confusion_matrix(y_test_for,y_pred_for)"
      ],
      "metadata": {
        "colab": {
          "base_uri": "https://localhost:8080/"
        },
        "id": "yOspSu255yPN",
        "outputId": "d99477fa-33f8-4bdc-a25c-cfb700d4fff9"
      },
      "execution_count": null,
      "outputs": [
        {
          "output_type": "execute_result",
          "data": {
            "text/plain": [
              "array([[122,   9],\n",
              "       [  4, 306]])"
            ]
          },
          "metadata": {},
          "execution_count": 72
        }
      ]
    },
    {
      "cell_type": "markdown",
      "source": [
        "Number of false positives: 10\n",
        "\n",
        "Number of false negatives: 6"
      ],
      "metadata": {
        "id": "ndb2K91hRC8c"
      }
    },
    {
      "cell_type": "markdown",
      "source": [
        "3 Calculate the precision and recall on the test dataset."
      ],
      "metadata": {
        "id": "23WIZBoARJ7v"
      }
    },
    {
      "cell_type": "code",
      "source": [
        "print('Precision of the model on test dataset is: ',precision_score(y_test_for,y_pred_for))\n",
        "print('Recall of the model on test dataset is: ',recall_score(y_test_for,y_pred_for))"
      ],
      "metadata": {
        "colab": {
          "base_uri": "https://localhost:8080/"
        },
        "id": "_t6Q9KtBRJD1",
        "outputId": "b427bcd0-acb1-43a8-be77-17c0062b094b"
      },
      "execution_count": null,
      "outputs": [
        {
          "output_type": "stream",
          "name": "stdout",
          "text": [
            "Precision of the model on test dataset is:  0.9714285714285714\n",
            "Recall of the model on test dataset is:  0.9870967741935484\n"
          ]
        }
      ]
    }
  ]
}